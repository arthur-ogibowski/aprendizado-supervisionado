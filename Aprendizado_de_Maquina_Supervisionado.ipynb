{
  "nbformat": 4,
  "nbformat_minor": 0,
  "metadata": {
    "colab": {
      "provenance": []
    },
    "kernelspec": {
      "name": "python3",
      "display_name": "Python 3"
    },
    "language_info": {
      "name": "python"
    }
  },
  "cells": [
    {
      "cell_type": "markdown",
      "metadata": {
        "id": "fQJ5CYV9Te0X"
      },
      "source": [
        "\n",
        "\n",
        "\n",
        "# **Aprendizado de Máquina Supervisionado**"
      ]
    },
    {
      "cell_type": "markdown",
      "metadata": {
        "id": "5ZQ2nYhQUc3G"
      },
      "source": [
        "https://www.kaggle.com/competitions/titanic/data"
      ]
    },
    {
      "cell_type": "markdown",
      "source": [
        "## Setup"
      ],
      "metadata": {
        "id": "rtwsyXMcrS6O"
      }
    },
    {
      "cell_type": "code",
      "source": [
        "import pandas as pd"
      ],
      "metadata": {
        "id": "2HwA09Fm4Ueq"
      },
      "execution_count": null,
      "outputs": []
    },
    {
      "cell_type": "code",
      "source": [
        "from google.colab import drive\n",
        "drive.mount('/content/drive')"
      ],
      "metadata": {
        "colab": {
          "base_uri": "https://localhost:8080/"
        },
        "id": "8qKRiKn-4WnQ",
        "outputId": "b7d99086-e766-48a2-90d1-cdfe50fa8ebb"
      },
      "execution_count": null,
      "outputs": [
        {
          "output_type": "stream",
          "name": "stdout",
          "text": [
            "Drive already mounted at /content/drive; to attempt to forcibly remount, call drive.mount(\"/content/drive\", force_remount=True).\n"
          ]
        }
      ]
    },
    {
      "cell_type": "code",
      "source": [
        "import warnings\n",
        "warnings.filterwarnings(\"ignore\")"
      ],
      "metadata": {
        "id": "Hip4KZO_4aFS"
      },
      "execution_count": null,
      "outputs": []
    },
    {
      "cell_type": "code",
      "source": [
        "df = pd.read_csv('/content/drive/MyDrive/UP/train.csv',\n",
        "                    sep=',', encoding='iso-8859-1')"
      ],
      "metadata": {
        "id": "YPepRPag4cBf"
      },
      "execution_count": null,
      "outputs": []
    },
    {
      "cell_type": "code",
      "source": [
        "df.head()"
      ],
      "metadata": {
        "colab": {
          "base_uri": "https://localhost:8080/",
          "height": 206
        },
        "id": "OatKB5Nd41gk",
        "outputId": "a3d851f0-853d-4b1c-9851-40913425c03b"
      },
      "execution_count": null,
      "outputs": [
        {
          "output_type": "execute_result",
          "data": {
            "text/plain": [
              "   PassengerId  Survived  Pclass  \\\n",
              "0            1         0       3   \n",
              "1            2         1       1   \n",
              "2            3         1       3   \n",
              "3            4         1       1   \n",
              "4            5         0       3   \n",
              "\n",
              "                                                Name     Sex   Age  SibSp  \\\n",
              "0                            Braund, Mr. Owen Harris    male  22.0      1   \n",
              "1  Cumings, Mrs. John Bradley (Florence Briggs Th...  female  38.0      1   \n",
              "2                             Heikkinen, Miss. Laina  female  26.0      0   \n",
              "3       Futrelle, Mrs. Jacques Heath (Lily May Peel)  female  35.0      1   \n",
              "4                           Allen, Mr. William Henry    male  35.0      0   \n",
              "\n",
              "   Parch            Ticket     Fare Cabin Embarked  \n",
              "0      0         A/5 21171   7.2500   NaN        S  \n",
              "1      0          PC 17599  71.2833   C85        C  \n",
              "2      0  STON/O2. 3101282   7.9250   NaN        S  \n",
              "3      0            113803  53.1000  C123        S  \n",
              "4      0            373450   8.0500   NaN        S  "
            ],
            "text/html": [
              "\n",
              "  <div id=\"df-1df1ab75-296b-4560-acd2-44b16fe0d6bf\">\n",
              "    <div class=\"colab-df-container\">\n",
              "      <div>\n",
              "<style scoped>\n",
              "    .dataframe tbody tr th:only-of-type {\n",
              "        vertical-align: middle;\n",
              "    }\n",
              "\n",
              "    .dataframe tbody tr th {\n",
              "        vertical-align: top;\n",
              "    }\n",
              "\n",
              "    .dataframe thead th {\n",
              "        text-align: right;\n",
              "    }\n",
              "</style>\n",
              "<table border=\"1\" class=\"dataframe\">\n",
              "  <thead>\n",
              "    <tr style=\"text-align: right;\">\n",
              "      <th></th>\n",
              "      <th>PassengerId</th>\n",
              "      <th>Survived</th>\n",
              "      <th>Pclass</th>\n",
              "      <th>Name</th>\n",
              "      <th>Sex</th>\n",
              "      <th>Age</th>\n",
              "      <th>SibSp</th>\n",
              "      <th>Parch</th>\n",
              "      <th>Ticket</th>\n",
              "      <th>Fare</th>\n",
              "      <th>Cabin</th>\n",
              "      <th>Embarked</th>\n",
              "    </tr>\n",
              "  </thead>\n",
              "  <tbody>\n",
              "    <tr>\n",
              "      <th>0</th>\n",
              "      <td>1</td>\n",
              "      <td>0</td>\n",
              "      <td>3</td>\n",
              "      <td>Braund, Mr. Owen Harris</td>\n",
              "      <td>male</td>\n",
              "      <td>22.0</td>\n",
              "      <td>1</td>\n",
              "      <td>0</td>\n",
              "      <td>A/5 21171</td>\n",
              "      <td>7.2500</td>\n",
              "      <td>NaN</td>\n",
              "      <td>S</td>\n",
              "    </tr>\n",
              "    <tr>\n",
              "      <th>1</th>\n",
              "      <td>2</td>\n",
              "      <td>1</td>\n",
              "      <td>1</td>\n",
              "      <td>Cumings, Mrs. John Bradley (Florence Briggs Th...</td>\n",
              "      <td>female</td>\n",
              "      <td>38.0</td>\n",
              "      <td>1</td>\n",
              "      <td>0</td>\n",
              "      <td>PC 17599</td>\n",
              "      <td>71.2833</td>\n",
              "      <td>C85</td>\n",
              "      <td>C</td>\n",
              "    </tr>\n",
              "    <tr>\n",
              "      <th>2</th>\n",
              "      <td>3</td>\n",
              "      <td>1</td>\n",
              "      <td>3</td>\n",
              "      <td>Heikkinen, Miss. Laina</td>\n",
              "      <td>female</td>\n",
              "      <td>26.0</td>\n",
              "      <td>0</td>\n",
              "      <td>0</td>\n",
              "      <td>STON/O2. 3101282</td>\n",
              "      <td>7.9250</td>\n",
              "      <td>NaN</td>\n",
              "      <td>S</td>\n",
              "    </tr>\n",
              "    <tr>\n",
              "      <th>3</th>\n",
              "      <td>4</td>\n",
              "      <td>1</td>\n",
              "      <td>1</td>\n",
              "      <td>Futrelle, Mrs. Jacques Heath (Lily May Peel)</td>\n",
              "      <td>female</td>\n",
              "      <td>35.0</td>\n",
              "      <td>1</td>\n",
              "      <td>0</td>\n",
              "      <td>113803</td>\n",
              "      <td>53.1000</td>\n",
              "      <td>C123</td>\n",
              "      <td>S</td>\n",
              "    </tr>\n",
              "    <tr>\n",
              "      <th>4</th>\n",
              "      <td>5</td>\n",
              "      <td>0</td>\n",
              "      <td>3</td>\n",
              "      <td>Allen, Mr. William Henry</td>\n",
              "      <td>male</td>\n",
              "      <td>35.0</td>\n",
              "      <td>0</td>\n",
              "      <td>0</td>\n",
              "      <td>373450</td>\n",
              "      <td>8.0500</td>\n",
              "      <td>NaN</td>\n",
              "      <td>S</td>\n",
              "    </tr>\n",
              "  </tbody>\n",
              "</table>\n",
              "</div>\n",
              "      <button class=\"colab-df-convert\" onclick=\"convertToInteractive('df-1df1ab75-296b-4560-acd2-44b16fe0d6bf')\"\n",
              "              title=\"Convert this dataframe to an interactive table.\"\n",
              "              style=\"display:none;\">\n",
              "        \n",
              "  <svg xmlns=\"http://www.w3.org/2000/svg\" height=\"24px\"viewBox=\"0 0 24 24\"\n",
              "       width=\"24px\">\n",
              "    <path d=\"M0 0h24v24H0V0z\" fill=\"none\"/>\n",
              "    <path d=\"M18.56 5.44l.94 2.06.94-2.06 2.06-.94-2.06-.94-.94-2.06-.94 2.06-2.06.94zm-11 1L8.5 8.5l.94-2.06 2.06-.94-2.06-.94L8.5 2.5l-.94 2.06-2.06.94zm10 10l.94 2.06.94-2.06 2.06-.94-2.06-.94-.94-2.06-.94 2.06-2.06.94z\"/><path d=\"M17.41 7.96l-1.37-1.37c-.4-.4-.92-.59-1.43-.59-.52 0-1.04.2-1.43.59L10.3 9.45l-7.72 7.72c-.78.78-.78 2.05 0 2.83L4 21.41c.39.39.9.59 1.41.59.51 0 1.02-.2 1.41-.59l7.78-7.78 2.81-2.81c.8-.78.8-2.07 0-2.86zM5.41 20L4 18.59l7.72-7.72 1.47 1.35L5.41 20z\"/>\n",
              "  </svg>\n",
              "      </button>\n",
              "      \n",
              "  <style>\n",
              "    .colab-df-container {\n",
              "      display:flex;\n",
              "      flex-wrap:wrap;\n",
              "      gap: 12px;\n",
              "    }\n",
              "\n",
              "    .colab-df-convert {\n",
              "      background-color: #E8F0FE;\n",
              "      border: none;\n",
              "      border-radius: 50%;\n",
              "      cursor: pointer;\n",
              "      display: none;\n",
              "      fill: #1967D2;\n",
              "      height: 32px;\n",
              "      padding: 0 0 0 0;\n",
              "      width: 32px;\n",
              "    }\n",
              "\n",
              "    .colab-df-convert:hover {\n",
              "      background-color: #E2EBFA;\n",
              "      box-shadow: 0px 1px 2px rgba(60, 64, 67, 0.3), 0px 1px 3px 1px rgba(60, 64, 67, 0.15);\n",
              "      fill: #174EA6;\n",
              "    }\n",
              "\n",
              "    [theme=dark] .colab-df-convert {\n",
              "      background-color: #3B4455;\n",
              "      fill: #D2E3FC;\n",
              "    }\n",
              "\n",
              "    [theme=dark] .colab-df-convert:hover {\n",
              "      background-color: #434B5C;\n",
              "      box-shadow: 0px 1px 3px 1px rgba(0, 0, 0, 0.15);\n",
              "      filter: drop-shadow(0px 1px 2px rgba(0, 0, 0, 0.3));\n",
              "      fill: #FFFFFF;\n",
              "    }\n",
              "  </style>\n",
              "\n",
              "      <script>\n",
              "        const buttonEl =\n",
              "          document.querySelector('#df-1df1ab75-296b-4560-acd2-44b16fe0d6bf button.colab-df-convert');\n",
              "        buttonEl.style.display =\n",
              "          google.colab.kernel.accessAllowed ? 'block' : 'none';\n",
              "\n",
              "        async function convertToInteractive(key) {\n",
              "          const element = document.querySelector('#df-1df1ab75-296b-4560-acd2-44b16fe0d6bf');\n",
              "          const dataTable =\n",
              "            await google.colab.kernel.invokeFunction('convertToInteractive',\n",
              "                                                     [key], {});\n",
              "          if (!dataTable) return;\n",
              "\n",
              "          const docLinkHtml = 'Like what you see? Visit the ' +\n",
              "            '<a target=\"_blank\" href=https://colab.research.google.com/notebooks/data_table.ipynb>data table notebook</a>'\n",
              "            + ' to learn more about interactive tables.';\n",
              "          element.innerHTML = '';\n",
              "          dataTable['output_type'] = 'display_data';\n",
              "          await google.colab.output.renderOutput(dataTable, element);\n",
              "          const docLink = document.createElement('div');\n",
              "          docLink.innerHTML = docLinkHtml;\n",
              "          element.appendChild(docLink);\n",
              "        }\n",
              "      </script>\n",
              "    </div>\n",
              "  </div>\n",
              "  "
            ]
          },
          "metadata": {},
          "execution_count": 116
        }
      ]
    },
    {
      "cell_type": "markdown",
      "source": [
        "## Limpeza de dados"
      ],
      "metadata": {
        "id": "H9f1SgKJrDX_"
      }
    },
    {
      "cell_type": "code",
      "source": [
        "df.isnull().sum()"
      ],
      "metadata": {
        "colab": {
          "base_uri": "https://localhost:8080/"
        },
        "id": "cEz_8zPREkhQ",
        "outputId": "25bbb920-7852-48e3-88eb-46634289118d"
      },
      "execution_count": null,
      "outputs": [
        {
          "output_type": "execute_result",
          "data": {
            "text/plain": [
              "PassengerId      0\n",
              "Survived         0\n",
              "Pclass           0\n",
              "Name             0\n",
              "Sex              0\n",
              "Age            177\n",
              "SibSp            0\n",
              "Parch            0\n",
              "Ticket           0\n",
              "Fare             0\n",
              "Cabin          687\n",
              "Embarked         2\n",
              "dtype: int64"
            ]
          },
          "metadata": {},
          "execution_count": 117
        }
      ]
    },
    {
      "cell_type": "code",
      "source": [
        "df = df.dropna()"
      ],
      "metadata": {
        "id": "i1dwhsEOy0ip"
      },
      "execution_count": null,
      "outputs": []
    },
    {
      "cell_type": "code",
      "source": [
        "df['Sex'].replace({'female': 0, 'male': 1}, inplace=True)"
      ],
      "metadata": {
        "id": "vSSULlbOxEs7"
      },
      "execution_count": null,
      "outputs": []
    },
    {
      "cell_type": "code",
      "source": [
        "df.head()"
      ],
      "metadata": {
        "id": "jQtwlp9MyGhZ",
        "outputId": "199dae0a-2f68-4857-d660-c1cf9c50d631",
        "colab": {
          "base_uri": "https://localhost:8080/",
          "height": 206
        }
      },
      "execution_count": null,
      "outputs": [
        {
          "output_type": "execute_result",
          "data": {
            "text/plain": [
              "    Pclass  Sex   Age  SibSp  Parch\n",
              "1        1    0  38.0      1      0\n",
              "3        1    0  35.0      1      0\n",
              "6        1    1  54.0      0      0\n",
              "10       3    0   4.0      1      1\n",
              "11       1    0  58.0      0      0"
            ],
            "text/html": [
              "\n",
              "  <div id=\"df-505e1244-e5ea-4086-a4fa-5fa43ce1da48\">\n",
              "    <div class=\"colab-df-container\">\n",
              "      <div>\n",
              "<style scoped>\n",
              "    .dataframe tbody tr th:only-of-type {\n",
              "        vertical-align: middle;\n",
              "    }\n",
              "\n",
              "    .dataframe tbody tr th {\n",
              "        vertical-align: top;\n",
              "    }\n",
              "\n",
              "    .dataframe thead th {\n",
              "        text-align: right;\n",
              "    }\n",
              "</style>\n",
              "<table border=\"1\" class=\"dataframe\">\n",
              "  <thead>\n",
              "    <tr style=\"text-align: right;\">\n",
              "      <th></th>\n",
              "      <th>Pclass</th>\n",
              "      <th>Sex</th>\n",
              "      <th>Age</th>\n",
              "      <th>SibSp</th>\n",
              "      <th>Parch</th>\n",
              "    </tr>\n",
              "  </thead>\n",
              "  <tbody>\n",
              "    <tr>\n",
              "      <th>1</th>\n",
              "      <td>1</td>\n",
              "      <td>0</td>\n",
              "      <td>38.0</td>\n",
              "      <td>1</td>\n",
              "      <td>0</td>\n",
              "    </tr>\n",
              "    <tr>\n",
              "      <th>3</th>\n",
              "      <td>1</td>\n",
              "      <td>0</td>\n",
              "      <td>35.0</td>\n",
              "      <td>1</td>\n",
              "      <td>0</td>\n",
              "    </tr>\n",
              "    <tr>\n",
              "      <th>6</th>\n",
              "      <td>1</td>\n",
              "      <td>1</td>\n",
              "      <td>54.0</td>\n",
              "      <td>0</td>\n",
              "      <td>0</td>\n",
              "    </tr>\n",
              "    <tr>\n",
              "      <th>10</th>\n",
              "      <td>3</td>\n",
              "      <td>0</td>\n",
              "      <td>4.0</td>\n",
              "      <td>1</td>\n",
              "      <td>1</td>\n",
              "    </tr>\n",
              "    <tr>\n",
              "      <th>11</th>\n",
              "      <td>1</td>\n",
              "      <td>0</td>\n",
              "      <td>58.0</td>\n",
              "      <td>0</td>\n",
              "      <td>0</td>\n",
              "    </tr>\n",
              "  </tbody>\n",
              "</table>\n",
              "</div>\n",
              "      <button class=\"colab-df-convert\" onclick=\"convertToInteractive('df-505e1244-e5ea-4086-a4fa-5fa43ce1da48')\"\n",
              "              title=\"Convert this dataframe to an interactive table.\"\n",
              "              style=\"display:none;\">\n",
              "        \n",
              "  <svg xmlns=\"http://www.w3.org/2000/svg\" height=\"24px\"viewBox=\"0 0 24 24\"\n",
              "       width=\"24px\">\n",
              "    <path d=\"M0 0h24v24H0V0z\" fill=\"none\"/>\n",
              "    <path d=\"M18.56 5.44l.94 2.06.94-2.06 2.06-.94-2.06-.94-.94-2.06-.94 2.06-2.06.94zm-11 1L8.5 8.5l.94-2.06 2.06-.94-2.06-.94L8.5 2.5l-.94 2.06-2.06.94zm10 10l.94 2.06.94-2.06 2.06-.94-2.06-.94-.94-2.06-.94 2.06-2.06.94z\"/><path d=\"M17.41 7.96l-1.37-1.37c-.4-.4-.92-.59-1.43-.59-.52 0-1.04.2-1.43.59L10.3 9.45l-7.72 7.72c-.78.78-.78 2.05 0 2.83L4 21.41c.39.39.9.59 1.41.59.51 0 1.02-.2 1.41-.59l7.78-7.78 2.81-2.81c.8-.78.8-2.07 0-2.86zM5.41 20L4 18.59l7.72-7.72 1.47 1.35L5.41 20z\"/>\n",
              "  </svg>\n",
              "      </button>\n",
              "      \n",
              "  <style>\n",
              "    .colab-df-container {\n",
              "      display:flex;\n",
              "      flex-wrap:wrap;\n",
              "      gap: 12px;\n",
              "    }\n",
              "\n",
              "    .colab-df-convert {\n",
              "      background-color: #E8F0FE;\n",
              "      border: none;\n",
              "      border-radius: 50%;\n",
              "      cursor: pointer;\n",
              "      display: none;\n",
              "      fill: #1967D2;\n",
              "      height: 32px;\n",
              "      padding: 0 0 0 0;\n",
              "      width: 32px;\n",
              "    }\n",
              "\n",
              "    .colab-df-convert:hover {\n",
              "      background-color: #E2EBFA;\n",
              "      box-shadow: 0px 1px 2px rgba(60, 64, 67, 0.3), 0px 1px 3px 1px rgba(60, 64, 67, 0.15);\n",
              "      fill: #174EA6;\n",
              "    }\n",
              "\n",
              "    [theme=dark] .colab-df-convert {\n",
              "      background-color: #3B4455;\n",
              "      fill: #D2E3FC;\n",
              "    }\n",
              "\n",
              "    [theme=dark] .colab-df-convert:hover {\n",
              "      background-color: #434B5C;\n",
              "      box-shadow: 0px 1px 3px 1px rgba(0, 0, 0, 0.15);\n",
              "      filter: drop-shadow(0px 1px 2px rgba(0, 0, 0, 0.3));\n",
              "      fill: #FFFFFF;\n",
              "    }\n",
              "  </style>\n",
              "\n",
              "      <script>\n",
              "        const buttonEl =\n",
              "          document.querySelector('#df-505e1244-e5ea-4086-a4fa-5fa43ce1da48 button.colab-df-convert');\n",
              "        buttonEl.style.display =\n",
              "          google.colab.kernel.accessAllowed ? 'block' : 'none';\n",
              "\n",
              "        async function convertToInteractive(key) {\n",
              "          const element = document.querySelector('#df-505e1244-e5ea-4086-a4fa-5fa43ce1da48');\n",
              "          const dataTable =\n",
              "            await google.colab.kernel.invokeFunction('convertToInteractive',\n",
              "                                                     [key], {});\n",
              "          if (!dataTable) return;\n",
              "\n",
              "          const docLinkHtml = 'Like what you see? Visit the ' +\n",
              "            '<a target=\"_blank\" href=https://colab.research.google.com/notebooks/data_table.ipynb>data table notebook</a>'\n",
              "            + ' to learn more about interactive tables.';\n",
              "          element.innerHTML = '';\n",
              "          dataTable['output_type'] = 'display_data';\n",
              "          await google.colab.output.renderOutput(dataTable, element);\n",
              "          const docLink = document.createElement('div');\n",
              "          docLink.innerHTML = docLinkHtml;\n",
              "          element.appendChild(docLink);\n",
              "        }\n",
              "      </script>\n",
              "    </div>\n",
              "  </div>\n",
              "  "
            ]
          },
          "metadata": {},
          "execution_count": 143
        }
      ]
    },
    {
      "cell_type": "code",
      "source": [
        "df['Age'].unique()"
      ],
      "metadata": {
        "id": "ptflON460xnt",
        "outputId": "3f89759f-87c6-4442-b5ad-776591d09cae",
        "colab": {
          "base_uri": "https://localhost:8080/"
        }
      },
      "execution_count": null,
      "outputs": [
        {
          "output_type": "execute_result",
          "data": {
            "text/plain": [
              "array(['38.0', '35.0', '54.0', '4.0', '58.0', '34.0', '28.0', '19.0',\n",
              "       '49.0', '65.0', '45.0', '29.0', '25.0', '23.0', '46.0', '71.0',\n",
              "       '21.0', '47.0', '24.0', '32.5', '37.0', '36.5', '22.0', '61.0',\n",
              "       '56.0', '50.0', '1.0', '3.0', '44.0', '2.0', '40.0', '31.0',\n",
              "       '32.0', '62.0', '30.0', '52.0', '63.0', '36.0', '17.0', '18.0',\n",
              "       '16.0', '45.5', '41.0', '60.0', '27.0', '33.0', '14.0', '64.0',\n",
              "       '48.0', '55.0', '39.0', '53.0', '42.0', '80.0', '15.0', '70.0',\n",
              "       '6.0', '51.0', '57.0', '43.0', '11.0', '26.0'], dtype=object)"
            ]
          },
          "metadata": {},
          "execution_count": 157
        }
      ]
    },
    {
      "cell_type": "code",
      "source": [
        "df['Age'] = df['Age'].map(str)\n",
        "df['Age'].replace({'0.92' : '1', '$.5' : '', '.0' : ''})"
      ],
      "metadata": {
        "id": "r_zwTJ1d1ITw",
        "outputId": "19791777-0b91-42a9-974e-3dde5bcab047",
        "colab": {
          "base_uri": "https://localhost:8080/"
        }
      },
      "execution_count": null,
      "outputs": [
        {
          "output_type": "execute_result",
          "data": {
            "text/plain": [
              "1      38.0\n",
              "3      35.0\n",
              "6      54.0\n",
              "10      4.0\n",
              "11     58.0\n",
              "       ... \n",
              "871    47.0\n",
              "872    33.0\n",
              "879    56.0\n",
              "887    19.0\n",
              "889    26.0\n",
              "Name: Age, Length: 183, dtype: object"
            ]
          },
          "metadata": {},
          "execution_count": 156
        }
      ]
    },
    {
      "cell_type": "code",
      "source": [
        "df = df.drop(columns=['PassengerId', 'Survived', 'Name', 'Ticket', 'Cabin', 'Embarked', 'Fare'])\n",
        "df.head()"
      ],
      "metadata": {
        "id": "akQzys94yM6S",
        "outputId": "1bb2fa06-4015-45f6-a8fa-c6d52252e54b",
        "colab": {
          "base_uri": "https://localhost:8080/",
          "height": 206
        }
      },
      "execution_count": null,
      "outputs": [
        {
          "output_type": "execute_result",
          "data": {
            "text/plain": [
              "    Pclass  Sex   Age  SibSp  Parch\n",
              "1        1    0  38.0      1      0\n",
              "3        1    0  35.0      1      0\n",
              "6        1    1  54.0      0      0\n",
              "10       3    0   4.0      1      1\n",
              "11       1    0  58.0      0      0"
            ],
            "text/html": [
              "\n",
              "  <div id=\"df-4784e660-5c49-4f22-860b-fef18e8dfbed\">\n",
              "    <div class=\"colab-df-container\">\n",
              "      <div>\n",
              "<style scoped>\n",
              "    .dataframe tbody tr th:only-of-type {\n",
              "        vertical-align: middle;\n",
              "    }\n",
              "\n",
              "    .dataframe tbody tr th {\n",
              "        vertical-align: top;\n",
              "    }\n",
              "\n",
              "    .dataframe thead th {\n",
              "        text-align: right;\n",
              "    }\n",
              "</style>\n",
              "<table border=\"1\" class=\"dataframe\">\n",
              "  <thead>\n",
              "    <tr style=\"text-align: right;\">\n",
              "      <th></th>\n",
              "      <th>Pclass</th>\n",
              "      <th>Sex</th>\n",
              "      <th>Age</th>\n",
              "      <th>SibSp</th>\n",
              "      <th>Parch</th>\n",
              "    </tr>\n",
              "  </thead>\n",
              "  <tbody>\n",
              "    <tr>\n",
              "      <th>1</th>\n",
              "      <td>1</td>\n",
              "      <td>0</td>\n",
              "      <td>38.0</td>\n",
              "      <td>1</td>\n",
              "      <td>0</td>\n",
              "    </tr>\n",
              "    <tr>\n",
              "      <th>3</th>\n",
              "      <td>1</td>\n",
              "      <td>0</td>\n",
              "      <td>35.0</td>\n",
              "      <td>1</td>\n",
              "      <td>0</td>\n",
              "    </tr>\n",
              "    <tr>\n",
              "      <th>6</th>\n",
              "      <td>1</td>\n",
              "      <td>1</td>\n",
              "      <td>54.0</td>\n",
              "      <td>0</td>\n",
              "      <td>0</td>\n",
              "    </tr>\n",
              "    <tr>\n",
              "      <th>10</th>\n",
              "      <td>3</td>\n",
              "      <td>0</td>\n",
              "      <td>4.0</td>\n",
              "      <td>1</td>\n",
              "      <td>1</td>\n",
              "    </tr>\n",
              "    <tr>\n",
              "      <th>11</th>\n",
              "      <td>1</td>\n",
              "      <td>0</td>\n",
              "      <td>58.0</td>\n",
              "      <td>0</td>\n",
              "      <td>0</td>\n",
              "    </tr>\n",
              "  </tbody>\n",
              "</table>\n",
              "</div>\n",
              "      <button class=\"colab-df-convert\" onclick=\"convertToInteractive('df-4784e660-5c49-4f22-860b-fef18e8dfbed')\"\n",
              "              title=\"Convert this dataframe to an interactive table.\"\n",
              "              style=\"display:none;\">\n",
              "        \n",
              "  <svg xmlns=\"http://www.w3.org/2000/svg\" height=\"24px\"viewBox=\"0 0 24 24\"\n",
              "       width=\"24px\">\n",
              "    <path d=\"M0 0h24v24H0V0z\" fill=\"none\"/>\n",
              "    <path d=\"M18.56 5.44l.94 2.06.94-2.06 2.06-.94-2.06-.94-.94-2.06-.94 2.06-2.06.94zm-11 1L8.5 8.5l.94-2.06 2.06-.94-2.06-.94L8.5 2.5l-.94 2.06-2.06.94zm10 10l.94 2.06.94-2.06 2.06-.94-2.06-.94-.94-2.06-.94 2.06-2.06.94z\"/><path d=\"M17.41 7.96l-1.37-1.37c-.4-.4-.92-.59-1.43-.59-.52 0-1.04.2-1.43.59L10.3 9.45l-7.72 7.72c-.78.78-.78 2.05 0 2.83L4 21.41c.39.39.9.59 1.41.59.51 0 1.02-.2 1.41-.59l7.78-7.78 2.81-2.81c.8-.78.8-2.07 0-2.86zM5.41 20L4 18.59l7.72-7.72 1.47 1.35L5.41 20z\"/>\n",
              "  </svg>\n",
              "      </button>\n",
              "      \n",
              "  <style>\n",
              "    .colab-df-container {\n",
              "      display:flex;\n",
              "      flex-wrap:wrap;\n",
              "      gap: 12px;\n",
              "    }\n",
              "\n",
              "    .colab-df-convert {\n",
              "      background-color: #E8F0FE;\n",
              "      border: none;\n",
              "      border-radius: 50%;\n",
              "      cursor: pointer;\n",
              "      display: none;\n",
              "      fill: #1967D2;\n",
              "      height: 32px;\n",
              "      padding: 0 0 0 0;\n",
              "      width: 32px;\n",
              "    }\n",
              "\n",
              "    .colab-df-convert:hover {\n",
              "      background-color: #E2EBFA;\n",
              "      box-shadow: 0px 1px 2px rgba(60, 64, 67, 0.3), 0px 1px 3px 1px rgba(60, 64, 67, 0.15);\n",
              "      fill: #174EA6;\n",
              "    }\n",
              "\n",
              "    [theme=dark] .colab-df-convert {\n",
              "      background-color: #3B4455;\n",
              "      fill: #D2E3FC;\n",
              "    }\n",
              "\n",
              "    [theme=dark] .colab-df-convert:hover {\n",
              "      background-color: #434B5C;\n",
              "      box-shadow: 0px 1px 3px 1px rgba(0, 0, 0, 0.15);\n",
              "      filter: drop-shadow(0px 1px 2px rgba(0, 0, 0, 0.3));\n",
              "      fill: #FFFFFF;\n",
              "    }\n",
              "  </style>\n",
              "\n",
              "      <script>\n",
              "        const buttonEl =\n",
              "          document.querySelector('#df-4784e660-5c49-4f22-860b-fef18e8dfbed button.colab-df-convert');\n",
              "        buttonEl.style.display =\n",
              "          google.colab.kernel.accessAllowed ? 'block' : 'none';\n",
              "\n",
              "        async function convertToInteractive(key) {\n",
              "          const element = document.querySelector('#df-4784e660-5c49-4f22-860b-fef18e8dfbed');\n",
              "          const dataTable =\n",
              "            await google.colab.kernel.invokeFunction('convertToInteractive',\n",
              "                                                     [key], {});\n",
              "          if (!dataTable) return;\n",
              "\n",
              "          const docLinkHtml = 'Like what you see? Visit the ' +\n",
              "            '<a target=\"_blank\" href=https://colab.research.google.com/notebooks/data_table.ipynb>data table notebook</a>'\n",
              "            + ' to learn more about interactive tables.';\n",
              "          element.innerHTML = '';\n",
              "          dataTable['output_type'] = 'display_data';\n",
              "          await google.colab.output.renderOutput(dataTable, element);\n",
              "          const docLink = document.createElement('div');\n",
              "          docLink.innerHTML = docLinkHtml;\n",
              "          element.appendChild(docLink);\n",
              "        }\n",
              "      </script>\n",
              "    </div>\n",
              "  </div>\n",
              "  "
            ]
          },
          "metadata": {},
          "execution_count": 123
        }
      ]
    },
    {
      "cell_type": "code",
      "source": [
        "df.shape"
      ],
      "metadata": {
        "id": "Orw7-AXEwRNj",
        "outputId": "bd6bbd5f-33b0-4537-94ec-adb4ffff34d1",
        "colab": {
          "base_uri": "https://localhost:8080/"
        }
      },
      "execution_count": null,
      "outputs": [
        {
          "output_type": "execute_result",
          "data": {
            "text/plain": [
              "(183, 5)"
            ]
          },
          "metadata": {},
          "execution_count": 124
        }
      ]
    },
    {
      "cell_type": "code",
      "source": [
        "previsores = df.iloc[:, 0:4].values"
      ],
      "metadata": {
        "id": "GLoSLlzpwEVw"
      },
      "execution_count": null,
      "outputs": []
    },
    {
      "cell_type": "code",
      "source": [
        "previsores"
      ],
      "metadata": {
        "id": "JQw1Q4qWwIWC",
        "outputId": "ed1bd329-aea2-4b15-f5cf-6beb85848a82",
        "colab": {
          "base_uri": "https://localhost:8080/"
        }
      },
      "execution_count": null,
      "outputs": [
        {
          "output_type": "execute_result",
          "data": {
            "text/plain": [
              "array([[ 1.  ,  0.  , 38.  ,  1.  ],\n",
              "       [ 1.  ,  0.  , 35.  ,  1.  ],\n",
              "       [ 1.  ,  1.  , 54.  ,  0.  ],\n",
              "       [ 3.  ,  0.  ,  4.  ,  1.  ],\n",
              "       [ 1.  ,  0.  , 58.  ,  0.  ],\n",
              "       [ 2.  ,  1.  , 34.  ,  0.  ],\n",
              "       [ 1.  ,  1.  , 28.  ,  0.  ],\n",
              "       [ 1.  ,  1.  , 19.  ,  3.  ],\n",
              "       [ 1.  ,  0.  , 49.  ,  1.  ],\n",
              "       [ 1.  ,  1.  , 65.  ,  0.  ],\n",
              "       [ 1.  ,  1.  , 45.  ,  1.  ],\n",
              "       [ 2.  ,  0.  , 29.  ,  0.  ],\n",
              "       [ 3.  ,  1.  , 25.  ,  0.  ],\n",
              "       [ 1.  ,  0.  , 23.  ,  3.  ],\n",
              "       [ 1.  ,  1.  , 46.  ,  1.  ],\n",
              "       [ 1.  ,  1.  , 71.  ,  0.  ],\n",
              "       [ 1.  ,  1.  , 23.  ,  0.  ],\n",
              "       [ 1.  ,  1.  , 21.  ,  0.  ],\n",
              "       [ 1.  ,  1.  , 47.  ,  0.  ],\n",
              "       [ 1.  ,  1.  , 24.  ,  0.  ],\n",
              "       [ 2.  ,  0.  , 32.5 ,  0.  ],\n",
              "       [ 1.  ,  1.  , 54.  ,  0.  ],\n",
              "       [ 1.  ,  0.  , 19.  ,  0.  ],\n",
              "       [ 1.  ,  1.  , 37.  ,  1.  ],\n",
              "       [ 1.  ,  1.  , 24.  ,  0.  ],\n",
              "       [ 2.  ,  1.  , 36.5 ,  0.  ],\n",
              "       [ 1.  ,  0.  , 22.  ,  1.  ],\n",
              "       [ 1.  ,  1.  , 61.  ,  0.  ],\n",
              "       [ 1.  ,  1.  , 56.  ,  0.  ],\n",
              "       [ 1.  ,  0.  , 50.  ,  0.  ],\n",
              "       [ 2.  ,  1.  ,  1.  ,  2.  ],\n",
              "       [ 2.  ,  1.  ,  3.  ,  1.  ],\n",
              "       [ 1.  ,  0.  , 44.  ,  0.  ],\n",
              "       [ 1.  ,  0.  , 58.  ,  0.  ],\n",
              "       [ 3.  ,  0.  ,  2.  ,  0.  ],\n",
              "       [ 1.  ,  1.  , 40.  ,  0.  ],\n",
              "       [ 1.  ,  0.  , 31.  ,  1.  ],\n",
              "       [ 1.  ,  0.  , 32.  ,  0.  ],\n",
              "       [ 1.  ,  1.  , 38.  ,  1.  ],\n",
              "       [ 1.  ,  0.  , 35.  ,  1.  ],\n",
              "       [ 1.  ,  1.  , 44.  ,  2.  ],\n",
              "       [ 1.  ,  1.  , 37.  ,  1.  ],\n",
              "       [ 3.  ,  0.  , 29.  ,  1.  ],\n",
              "       [ 1.  ,  1.  , 62.  ,  0.  ],\n",
              "       [ 1.  ,  0.  , 30.  ,  0.  ],\n",
              "       [ 1.  ,  1.  , 52.  ,  1.  ],\n",
              "       [ 1.  ,  1.  , 40.  ,  0.  ],\n",
              "       [ 1.  ,  0.  , 58.  ,  0.  ],\n",
              "       [ 1.  ,  0.  , 35.  ,  0.  ],\n",
              "       [ 1.  ,  1.  , 37.  ,  0.  ],\n",
              "       [ 1.  ,  0.  , 63.  ,  1.  ],\n",
              "       [ 1.  ,  0.  , 19.  ,  1.  ],\n",
              "       [ 2.  ,  1.  , 36.  ,  0.  ],\n",
              "       [ 1.  ,  0.  ,  2.  ,  1.  ],\n",
              "       [ 1.  ,  0.  , 50.  ,  0.  ],\n",
              "       [ 1.  ,  1.  ,  0.92,  1.  ],\n",
              "       [ 1.  ,  0.  , 17.  ,  1.  ],\n",
              "       [ 1.  ,  0.  , 30.  ,  0.  ],\n",
              "       [ 1.  ,  0.  , 24.  ,  0.  ],\n",
              "       [ 1.  ,  0.  , 18.  ,  2.  ],\n",
              "       [ 1.  ,  0.  , 31.  ,  0.  ],\n",
              "       [ 1.  ,  0.  , 40.  ,  1.  ],\n",
              "       [ 1.  ,  0.  , 36.  ,  0.  ],\n",
              "       [ 2.  ,  0.  , 36.  ,  0.  ],\n",
              "       [ 1.  ,  0.  , 16.  ,  0.  ],\n",
              "       [ 1.  ,  1.  , 45.5 ,  0.  ],\n",
              "       [ 1.  ,  1.  , 38.  ,  0.  ],\n",
              "       [ 1.  ,  1.  , 29.  ,  1.  ],\n",
              "       [ 1.  ,  0.  , 41.  ,  0.  ],\n",
              "       [ 1.  ,  1.  , 45.  ,  0.  ],\n",
              "       [ 2.  ,  1.  ,  2.  ,  1.  ],\n",
              "       [ 1.  ,  0.  , 24.  ,  3.  ],\n",
              "       [ 2.  ,  0.  , 24.  ,  0.  ],\n",
              "       [ 1.  ,  0.  , 22.  ,  0.  ],\n",
              "       [ 1.  ,  0.  , 60.  ,  1.  ],\n",
              "       [ 1.  ,  0.  , 24.  ,  0.  ],\n",
              "       [ 1.  ,  1.  , 25.  ,  1.  ],\n",
              "       [ 1.  ,  1.  , 27.  ,  0.  ],\n",
              "       [ 1.  ,  1.  , 36.  ,  1.  ],\n",
              "       [ 1.  ,  0.  , 23.  ,  1.  ],\n",
              "       [ 3.  ,  0.  , 24.  ,  0.  ],\n",
              "       [ 1.  ,  0.  , 33.  ,  1.  ],\n",
              "       [ 3.  ,  1.  , 32.  ,  0.  ],\n",
              "       [ 1.  ,  1.  , 28.  ,  0.  ],\n",
              "       [ 1.  ,  1.  , 50.  ,  1.  ],\n",
              "       [ 1.  ,  0.  , 14.  ,  1.  ],\n",
              "       [ 1.  ,  1.  , 64.  ,  1.  ],\n",
              "       [ 1.  ,  1.  ,  4.  ,  0.  ],\n",
              "       [ 1.  ,  1.  , 52.  ,  0.  ],\n",
              "       [ 1.  ,  1.  , 30.  ,  0.  ],\n",
              "       [ 1.  ,  1.  , 49.  ,  1.  ],\n",
              "       [ 1.  ,  1.  , 65.  ,  0.  ],\n",
              "       [ 1.  ,  1.  , 48.  ,  0.  ],\n",
              "       [ 1.  ,  1.  , 47.  ,  0.  ],\n",
              "       [ 2.  ,  0.  , 23.  ,  0.  ],\n",
              "       [ 1.  ,  1.  , 25.  ,  1.  ],\n",
              "       [ 1.  ,  0.  , 35.  ,  1.  ],\n",
              "       [ 1.  ,  1.  , 58.  ,  0.  ],\n",
              "       [ 1.  ,  1.  , 55.  ,  0.  ],\n",
              "       [ 1.  ,  0.  , 54.  ,  1.  ],\n",
              "       [ 1.  ,  0.  , 25.  ,  1.  ],\n",
              "       [ 1.  ,  0.  , 16.  ,  0.  ],\n",
              "       [ 1.  ,  1.  , 18.  ,  1.  ],\n",
              "       [ 1.  ,  1.  , 36.  ,  0.  ],\n",
              "       [ 1.  ,  1.  , 47.  ,  0.  ],\n",
              "       [ 2.  ,  0.  , 34.  ,  0.  ],\n",
              "       [ 1.  ,  0.  , 30.  ,  0.  ],\n",
              "       [ 1.  ,  0.  , 44.  ,  0.  ],\n",
              "       [ 1.  ,  1.  , 45.  ,  0.  ],\n",
              "       [ 1.  ,  0.  , 22.  ,  0.  ],\n",
              "       [ 1.  ,  0.  , 36.  ,  0.  ],\n",
              "       [ 1.  ,  1.  , 50.  ,  1.  ],\n",
              "       [ 1.  ,  1.  , 17.  ,  0.  ],\n",
              "       [ 1.  ,  0.  , 48.  ,  1.  ],\n",
              "       [ 1.  ,  0.  , 39.  ,  1.  ],\n",
              "       [ 1.  ,  0.  , 53.  ,  2.  ],\n",
              "       [ 1.  ,  1.  , 36.  ,  0.  ],\n",
              "       [ 1.  ,  0.  , 39.  ,  1.  ],\n",
              "       [ 1.  ,  0.  , 39.  ,  1.  ],\n",
              "       [ 1.  ,  1.  , 36.  ,  0.  ],\n",
              "       [ 1.  ,  0.  , 18.  ,  0.  ],\n",
              "       [ 1.  ,  1.  , 60.  ,  1.  ],\n",
              "       [ 1.  ,  0.  , 52.  ,  1.  ],\n",
              "       [ 1.  ,  1.  , 49.  ,  1.  ],\n",
              "       [ 1.  ,  0.  , 40.  ,  0.  ],\n",
              "       [ 2.  ,  0.  ,  4.  ,  2.  ],\n",
              "       [ 1.  ,  1.  , 42.  ,  1.  ],\n",
              "       [ 1.  ,  1.  , 61.  ,  0.  ],\n",
              "       [ 1.  ,  0.  , 21.  ,  0.  ],\n",
              "       [ 1.  ,  1.  , 80.  ,  0.  ],\n",
              "       [ 1.  ,  1.  , 32.  ,  0.  ],\n",
              "       [ 1.  ,  0.  , 24.  ,  0.  ],\n",
              "       [ 1.  ,  1.  , 48.  ,  1.  ],\n",
              "       [ 1.  ,  1.  , 56.  ,  0.  ],\n",
              "       [ 1.  ,  1.  , 58.  ,  0.  ],\n",
              "       [ 1.  ,  1.  , 47.  ,  0.  ],\n",
              "       [ 1.  ,  1.  , 31.  ,  1.  ],\n",
              "       [ 1.  ,  1.  , 36.  ,  0.  ],\n",
              "       [ 1.  ,  1.  , 27.  ,  0.  ],\n",
              "       [ 1.  ,  0.  , 15.  ,  0.  ],\n",
              "       [ 1.  ,  1.  , 31.  ,  1.  ],\n",
              "       [ 1.  ,  1.  , 49.  ,  1.  ],\n",
              "       [ 3.  ,  1.  , 42.  ,  0.  ],\n",
              "       [ 1.  ,  0.  , 18.  ,  1.  ],\n",
              "       [ 1.  ,  1.  , 35.  ,  0.  ],\n",
              "       [ 1.  ,  1.  , 42.  ,  0.  ],\n",
              "       [ 1.  ,  0.  , 24.  ,  0.  ],\n",
              "       [ 1.  ,  1.  , 48.  ,  1.  ],\n",
              "       [ 3.  ,  1.  , 19.  ,  0.  ],\n",
              "       [ 1.  ,  0.  , 38.  ,  0.  ],\n",
              "       [ 2.  ,  0.  , 27.  ,  0.  ],\n",
              "       [ 1.  ,  1.  , 27.  ,  1.  ],\n",
              "       [ 1.  ,  0.  , 29.  ,  0.  ],\n",
              "       [ 1.  ,  1.  , 35.  ,  0.  ],\n",
              "       [ 1.  ,  1.  , 36.  ,  1.  ],\n",
              "       [ 1.  ,  0.  , 21.  ,  2.  ],\n",
              "       [ 1.  ,  1.  , 70.  ,  1.  ],\n",
              "       [ 1.  ,  1.  , 19.  ,  1.  ],\n",
              "       [ 3.  ,  1.  ,  6.  ,  0.  ],\n",
              "       [ 1.  ,  0.  , 33.  ,  0.  ],\n",
              "       [ 1.  ,  0.  , 36.  ,  1.  ],\n",
              "       [ 1.  ,  0.  , 51.  ,  1.  ],\n",
              "       [ 2.  ,  0.  , 57.  ,  0.  ],\n",
              "       [ 1.  ,  0.  , 43.  ,  0.  ],\n",
              "       [ 1.  ,  0.  , 17.  ,  1.  ],\n",
              "       [ 1.  ,  1.  , 29.  ,  0.  ],\n",
              "       [ 1.  ,  1.  , 46.  ,  0.  ],\n",
              "       [ 1.  ,  0.  , 49.  ,  0.  ],\n",
              "       [ 1.  ,  1.  , 11.  ,  1.  ],\n",
              "       [ 1.  ,  1.  , 39.  ,  0.  ],\n",
              "       [ 1.  ,  0.  , 33.  ,  1.  ],\n",
              "       [ 1.  ,  0.  , 52.  ,  1.  ],\n",
              "       [ 3.  ,  0.  , 27.  ,  0.  ],\n",
              "       [ 1.  ,  0.  , 39.  ,  1.  ],\n",
              "       [ 1.  ,  0.  , 16.  ,  0.  ],\n",
              "       [ 1.  ,  1.  , 51.  ,  0.  ],\n",
              "       [ 1.  ,  0.  , 48.  ,  0.  ],\n",
              "       [ 1.  ,  1.  , 31.  ,  0.  ],\n",
              "       [ 1.  ,  0.  , 47.  ,  1.  ],\n",
              "       [ 1.  ,  1.  , 33.  ,  0.  ],\n",
              "       [ 1.  ,  0.  , 56.  ,  0.  ],\n",
              "       [ 1.  ,  0.  , 19.  ,  0.  ],\n",
              "       [ 1.  ,  1.  , 26.  ,  0.  ]])"
            ]
          },
          "metadata": {},
          "execution_count": 126
        }
      ]
    },
    {
      "cell_type": "code",
      "source": [
        "previsores.shape"
      ],
      "metadata": {
        "id": "7jXS4rvbweqY",
        "outputId": "d6b4222d-8cf4-4817-9d94-55f8c7316f85",
        "colab": {
          "base_uri": "https://localhost:8080/"
        }
      },
      "execution_count": null,
      "outputs": [
        {
          "output_type": "execute_result",
          "data": {
            "text/plain": [
              "(183, 5)"
            ]
          },
          "metadata": {},
          "execution_count": 101
        }
      ]
    },
    {
      "cell_type": "code",
      "source": [
        "alvo = df.iloc[:, 4].values"
      ],
      "metadata": {
        "id": "5G88oN88whcj"
      },
      "execution_count": null,
      "outputs": []
    },
    {
      "cell_type": "code",
      "source": [
        "alvo"
      ],
      "metadata": {
        "id": "vQ7LQslCwjcs",
        "outputId": "c0f543f0-a588-4b09-d4fe-3497d4c6d493",
        "colab": {
          "base_uri": "https://localhost:8080/"
        }
      },
      "execution_count": null,
      "outputs": [
        {
          "output_type": "execute_result",
          "data": {
            "text/plain": [
              "array([0, 0, 0, 1, 0, 0, 0, 2, 0, 1, 0, 0, 0, 2, 0, 0, 1, 1, 0, 1, 0, 1,\n",
              "       2, 0, 0, 2, 0, 0, 0, 0, 1, 1, 0, 0, 1, 0, 0, 0, 0, 0, 0, 1, 1, 0,\n",
              "       0, 1, 0, 1, 0, 1, 0, 0, 0, 2, 1, 2, 0, 0, 0, 2, 2, 1, 0, 0, 1, 0,\n",
              "       1, 0, 0, 0, 1, 2, 0, 1, 0, 0, 0, 2, 2, 0, 2, 0, 0, 0, 0, 2, 4, 2,\n",
              "       0, 0, 0, 0, 0, 0, 0, 0, 0, 0, 0, 0, 2, 0, 0, 0, 0, 0, 0, 1, 0, 2,\n",
              "       2, 0, 2, 0, 1, 0, 0, 0, 1, 0, 2, 1, 0, 0, 0, 1, 0, 0, 0, 0, 0, 0,\n",
              "       0, 0, 2, 0, 0, 1, 0, 1, 0, 1, 0, 0, 0, 0, 0, 0, 0, 0, 0, 0, 0, 0,\n",
              "       0, 2, 1, 0, 1, 0, 2, 0, 0, 1, 0, 0, 0, 0, 2, 0, 0, 1, 1, 1, 1, 0,\n",
              "       0, 0, 1, 0, 1, 0, 0])"
            ]
          },
          "metadata": {},
          "execution_count": 103
        }
      ]
    },
    {
      "cell_type": "markdown",
      "source": [
        "# **ÁRVORE DE DECISÃO**"
      ],
      "metadata": {
        "id": "xJ7tj_u3vvaK"
      }
    },
    {
      "cell_type": "code",
      "source": [
        "from sklearn.tree import DecisionTreeClassifier\n",
        "from sklearn import tree"
      ],
      "metadata": {
        "id": "XKauTB-Lvwjz"
      },
      "execution_count": null,
      "outputs": []
    }
  ]
}