{
  "nbformat": 4,
  "nbformat_minor": 0,
  "metadata": {
    "colab": {
      "provenance": []
    },
    "kernelspec": {
      "name": "python3",
      "display_name": "Python 3"
    },
    "language_info": {
      "name": "python"
    }
  },
  "cells": [
    {
      "cell_type": "markdown",
      "metadata": {
        "id": "fQJ5CYV9Te0X"
      },
      "source": [
        "\n",
        "\n",
        "\n",
        "# **Aprendizado de Máquina Supervisionado**"
      ]
    },
    {
      "cell_type": "markdown",
      "metadata": {
        "id": "5ZQ2nYhQUc3G"
      },
      "source": [
        "https://www.kaggle.com/competitions/titanic/data"
      ]
    },
    {
      "cell_type": "markdown",
      "source": [
        "## Setup"
      ],
      "metadata": {
        "id": "rtwsyXMcrS6O"
      }
    },
    {
      "cell_type": "code",
      "source": [
        "import pandas as pd"
      ],
      "metadata": {
        "id": "2HwA09Fm4Ueq"
      },
      "execution_count": 60,
      "outputs": []
    },
    {
      "cell_type": "code",
      "source": [
        "from google.colab import drive\n",
        "drive.mount('/content/drive')"
      ],
      "metadata": {
        "colab": {
          "base_uri": "https://localhost:8080/"
        },
        "id": "8qKRiKn-4WnQ",
        "outputId": "8c297ca4-d0fc-4a1c-a439-31e22308ad6d"
      },
      "execution_count": 61,
      "outputs": [
        {
          "output_type": "stream",
          "name": "stdout",
          "text": [
            "Drive already mounted at /content/drive; to attempt to forcibly remount, call drive.mount(\"/content/drive\", force_remount=True).\n"
          ]
        }
      ]
    },
    {
      "cell_type": "code",
      "source": [
        "import warnings\n",
        "warnings.filterwarnings(\"ignore\")"
      ],
      "metadata": {
        "id": "Hip4KZO_4aFS"
      },
      "execution_count": 62,
      "outputs": []
    },
    {
      "cell_type": "code",
      "source": [
        "df = pd.read_csv('/content/drive/MyDrive/UP/train.csv',\n",
        "                    sep=',', encoding='iso-8859-1')"
      ],
      "metadata": {
        "id": "YPepRPag4cBf"
      },
      "execution_count": 119,
      "outputs": []
    },
    {
      "cell_type": "code",
      "source": [
        "df.head()"
      ],
      "metadata": {
        "colab": {
          "base_uri": "https://localhost:8080/",
          "height": 206
        },
        "id": "OatKB5Nd41gk",
        "outputId": "0bb8aa3e-3346-462b-a247-6e88025f2f49"
      },
      "execution_count": 121,
      "outputs": [
        {
          "output_type": "execute_result",
          "data": {
            "text/plain": [
              "   PassengerId  Survived  Pclass  \\\n",
              "0            1         0       3   \n",
              "1            2         1       1   \n",
              "2            3         1       3   \n",
              "3            4         1       1   \n",
              "4            5         0       3   \n",
              "\n",
              "                                                Name     Sex   Age  SibSp  \\\n",
              "0                            Braund, Mr. Owen Harris    male  22.0      1   \n",
              "1  Cumings, Mrs. John Bradley (Florence Briggs Th...  female  38.0      1   \n",
              "2                             Heikkinen, Miss. Laina  female  26.0      0   \n",
              "3       Futrelle, Mrs. Jacques Heath (Lily May Peel)  female  35.0      1   \n",
              "4                           Allen, Mr. William Henry    male  35.0      0   \n",
              "\n",
              "   Parch            Ticket     Fare Cabin Embarked  \n",
              "0      0         A/5 21171   7.2500   NaN        S  \n",
              "1      0          PC 17599  71.2833   C85        C  \n",
              "2      0  STON/O2. 3101282   7.9250   NaN        S  \n",
              "3      0            113803  53.1000  C123        S  \n",
              "4      0            373450   8.0500   NaN        S  "
            ],
            "text/html": [
              "\n",
              "  <div id=\"df-f5384a2b-474b-44ff-b7c3-b58141b473d6\">\n",
              "    <div class=\"colab-df-container\">\n",
              "      <div>\n",
              "<style scoped>\n",
              "    .dataframe tbody tr th:only-of-type {\n",
              "        vertical-align: middle;\n",
              "    }\n",
              "\n",
              "    .dataframe tbody tr th {\n",
              "        vertical-align: top;\n",
              "    }\n",
              "\n",
              "    .dataframe thead th {\n",
              "        text-align: right;\n",
              "    }\n",
              "</style>\n",
              "<table border=\"1\" class=\"dataframe\">\n",
              "  <thead>\n",
              "    <tr style=\"text-align: right;\">\n",
              "      <th></th>\n",
              "      <th>PassengerId</th>\n",
              "      <th>Survived</th>\n",
              "      <th>Pclass</th>\n",
              "      <th>Name</th>\n",
              "      <th>Sex</th>\n",
              "      <th>Age</th>\n",
              "      <th>SibSp</th>\n",
              "      <th>Parch</th>\n",
              "      <th>Ticket</th>\n",
              "      <th>Fare</th>\n",
              "      <th>Cabin</th>\n",
              "      <th>Embarked</th>\n",
              "    </tr>\n",
              "  </thead>\n",
              "  <tbody>\n",
              "    <tr>\n",
              "      <th>0</th>\n",
              "      <td>1</td>\n",
              "      <td>0</td>\n",
              "      <td>3</td>\n",
              "      <td>Braund, Mr. Owen Harris</td>\n",
              "      <td>male</td>\n",
              "      <td>22.0</td>\n",
              "      <td>1</td>\n",
              "      <td>0</td>\n",
              "      <td>A/5 21171</td>\n",
              "      <td>7.2500</td>\n",
              "      <td>NaN</td>\n",
              "      <td>S</td>\n",
              "    </tr>\n",
              "    <tr>\n",
              "      <th>1</th>\n",
              "      <td>2</td>\n",
              "      <td>1</td>\n",
              "      <td>1</td>\n",
              "      <td>Cumings, Mrs. John Bradley (Florence Briggs Th...</td>\n",
              "      <td>female</td>\n",
              "      <td>38.0</td>\n",
              "      <td>1</td>\n",
              "      <td>0</td>\n",
              "      <td>PC 17599</td>\n",
              "      <td>71.2833</td>\n",
              "      <td>C85</td>\n",
              "      <td>C</td>\n",
              "    </tr>\n",
              "    <tr>\n",
              "      <th>2</th>\n",
              "      <td>3</td>\n",
              "      <td>1</td>\n",
              "      <td>3</td>\n",
              "      <td>Heikkinen, Miss. Laina</td>\n",
              "      <td>female</td>\n",
              "      <td>26.0</td>\n",
              "      <td>0</td>\n",
              "      <td>0</td>\n",
              "      <td>STON/O2. 3101282</td>\n",
              "      <td>7.9250</td>\n",
              "      <td>NaN</td>\n",
              "      <td>S</td>\n",
              "    </tr>\n",
              "    <tr>\n",
              "      <th>3</th>\n",
              "      <td>4</td>\n",
              "      <td>1</td>\n",
              "      <td>1</td>\n",
              "      <td>Futrelle, Mrs. Jacques Heath (Lily May Peel)</td>\n",
              "      <td>female</td>\n",
              "      <td>35.0</td>\n",
              "      <td>1</td>\n",
              "      <td>0</td>\n",
              "      <td>113803</td>\n",
              "      <td>53.1000</td>\n",
              "      <td>C123</td>\n",
              "      <td>S</td>\n",
              "    </tr>\n",
              "    <tr>\n",
              "      <th>4</th>\n",
              "      <td>5</td>\n",
              "      <td>0</td>\n",
              "      <td>3</td>\n",
              "      <td>Allen, Mr. William Henry</td>\n",
              "      <td>male</td>\n",
              "      <td>35.0</td>\n",
              "      <td>0</td>\n",
              "      <td>0</td>\n",
              "      <td>373450</td>\n",
              "      <td>8.0500</td>\n",
              "      <td>NaN</td>\n",
              "      <td>S</td>\n",
              "    </tr>\n",
              "  </tbody>\n",
              "</table>\n",
              "</div>\n",
              "      <button class=\"colab-df-convert\" onclick=\"convertToInteractive('df-f5384a2b-474b-44ff-b7c3-b58141b473d6')\"\n",
              "              title=\"Convert this dataframe to an interactive table.\"\n",
              "              style=\"display:none;\">\n",
              "        \n",
              "  <svg xmlns=\"http://www.w3.org/2000/svg\" height=\"24px\"viewBox=\"0 0 24 24\"\n",
              "       width=\"24px\">\n",
              "    <path d=\"M0 0h24v24H0V0z\" fill=\"none\"/>\n",
              "    <path d=\"M18.56 5.44l.94 2.06.94-2.06 2.06-.94-2.06-.94-.94-2.06-.94 2.06-2.06.94zm-11 1L8.5 8.5l.94-2.06 2.06-.94-2.06-.94L8.5 2.5l-.94 2.06-2.06.94zm10 10l.94 2.06.94-2.06 2.06-.94-2.06-.94-.94-2.06-.94 2.06-2.06.94z\"/><path d=\"M17.41 7.96l-1.37-1.37c-.4-.4-.92-.59-1.43-.59-.52 0-1.04.2-1.43.59L10.3 9.45l-7.72 7.72c-.78.78-.78 2.05 0 2.83L4 21.41c.39.39.9.59 1.41.59.51 0 1.02-.2 1.41-.59l7.78-7.78 2.81-2.81c.8-.78.8-2.07 0-2.86zM5.41 20L4 18.59l7.72-7.72 1.47 1.35L5.41 20z\"/>\n",
              "  </svg>\n",
              "      </button>\n",
              "      \n",
              "  <style>\n",
              "    .colab-df-container {\n",
              "      display:flex;\n",
              "      flex-wrap:wrap;\n",
              "      gap: 12px;\n",
              "    }\n",
              "\n",
              "    .colab-df-convert {\n",
              "      background-color: #E8F0FE;\n",
              "      border: none;\n",
              "      border-radius: 50%;\n",
              "      cursor: pointer;\n",
              "      display: none;\n",
              "      fill: #1967D2;\n",
              "      height: 32px;\n",
              "      padding: 0 0 0 0;\n",
              "      width: 32px;\n",
              "    }\n",
              "\n",
              "    .colab-df-convert:hover {\n",
              "      background-color: #E2EBFA;\n",
              "      box-shadow: 0px 1px 2px rgba(60, 64, 67, 0.3), 0px 1px 3px 1px rgba(60, 64, 67, 0.15);\n",
              "      fill: #174EA6;\n",
              "    }\n",
              "\n",
              "    [theme=dark] .colab-df-convert {\n",
              "      background-color: #3B4455;\n",
              "      fill: #D2E3FC;\n",
              "    }\n",
              "\n",
              "    [theme=dark] .colab-df-convert:hover {\n",
              "      background-color: #434B5C;\n",
              "      box-shadow: 0px 1px 3px 1px rgba(0, 0, 0, 0.15);\n",
              "      filter: drop-shadow(0px 1px 2px rgba(0, 0, 0, 0.3));\n",
              "      fill: #FFFFFF;\n",
              "    }\n",
              "  </style>\n",
              "\n",
              "      <script>\n",
              "        const buttonEl =\n",
              "          document.querySelector('#df-f5384a2b-474b-44ff-b7c3-b58141b473d6 button.colab-df-convert');\n",
              "        buttonEl.style.display =\n",
              "          google.colab.kernel.accessAllowed ? 'block' : 'none';\n",
              "\n",
              "        async function convertToInteractive(key) {\n",
              "          const element = document.querySelector('#df-f5384a2b-474b-44ff-b7c3-b58141b473d6');\n",
              "          const dataTable =\n",
              "            await google.colab.kernel.invokeFunction('convertToInteractive',\n",
              "                                                     [key], {});\n",
              "          if (!dataTable) return;\n",
              "\n",
              "          const docLinkHtml = 'Like what you see? Visit the ' +\n",
              "            '<a target=\"_blank\" href=https://colab.research.google.com/notebooks/data_table.ipynb>data table notebook</a>'\n",
              "            + ' to learn more about interactive tables.';\n",
              "          element.innerHTML = '';\n",
              "          dataTable['output_type'] = 'display_data';\n",
              "          await google.colab.output.renderOutput(dataTable, element);\n",
              "          const docLink = document.createElement('div');\n",
              "          docLink.innerHTML = docLinkHtml;\n",
              "          element.appendChild(docLink);\n",
              "        }\n",
              "      </script>\n",
              "    </div>\n",
              "  </div>\n",
              "  "
            ]
          },
          "metadata": {},
          "execution_count": 121
        }
      ]
    },
    {
      "cell_type": "markdown",
      "source": [
        "## Limpeza de dados"
      ],
      "metadata": {
        "id": "H9f1SgKJrDX_"
      }
    },
    {
      "cell_type": "code",
      "source": [
        "df.isnull().sum()"
      ],
      "metadata": {
        "colab": {
          "base_uri": "https://localhost:8080/"
        },
        "id": "cEz_8zPREkhQ",
        "outputId": "f84c5962-b6d0-4854-e558-9473d5a8033c"
      },
      "execution_count": 122,
      "outputs": [
        {
          "output_type": "execute_result",
          "data": {
            "text/plain": [
              "PassengerId      0\n",
              "Survived         0\n",
              "Pclass           0\n",
              "Name             0\n",
              "Sex              0\n",
              "Age            177\n",
              "SibSp            0\n",
              "Parch            0\n",
              "Ticket           0\n",
              "Fare             0\n",
              "Cabin          687\n",
              "Embarked         2\n",
              "dtype: int64"
            ]
          },
          "metadata": {},
          "execution_count": 122
        }
      ]
    },
    {
      "cell_type": "code",
      "source": [
        "df = df.dropna()"
      ],
      "metadata": {
        "id": "i1dwhsEOy0ip"
      },
      "execution_count": 123,
      "outputs": []
    },
    {
      "cell_type": "code",
      "source": [
        "df['Sex'].replace({'female': 0, 'male': 1}, inplace=True)"
      ],
      "metadata": {
        "id": "vSSULlbOxEs7"
      },
      "execution_count": 124,
      "outputs": []
    },
    {
      "cell_type": "code",
      "source": [
        "df = df.drop(columns=['PassengerId', 'Name', 'Ticket', 'Cabin', 'Embarked', 'Fare'])"
      ],
      "metadata": {
        "id": "akQzys94yM6S"
      },
      "execution_count": 125,
      "outputs": []
    },
    {
      "cell_type": "code",
      "source": [
        "df.head()"
      ],
      "metadata": {
        "colab": {
          "base_uri": "https://localhost:8080/",
          "height": 206
        },
        "id": "gNSlTxQZQIiS",
        "outputId": "b3b44645-af7b-470f-f165-43eaa7e7741d"
      },
      "execution_count": 126,
      "outputs": [
        {
          "output_type": "execute_result",
          "data": {
            "text/plain": [
              "    Survived  Pclass  Sex   Age  SibSp  Parch\n",
              "1          1       1    0  38.0      1      0\n",
              "3          1       1    0  35.0      1      0\n",
              "6          0       1    1  54.0      0      0\n",
              "10         1       3    0   4.0      1      1\n",
              "11         1       1    0  58.0      0      0"
            ],
            "text/html": [
              "\n",
              "  <div id=\"df-eec817dd-e359-447c-8761-d564ffec4070\">\n",
              "    <div class=\"colab-df-container\">\n",
              "      <div>\n",
              "<style scoped>\n",
              "    .dataframe tbody tr th:only-of-type {\n",
              "        vertical-align: middle;\n",
              "    }\n",
              "\n",
              "    .dataframe tbody tr th {\n",
              "        vertical-align: top;\n",
              "    }\n",
              "\n",
              "    .dataframe thead th {\n",
              "        text-align: right;\n",
              "    }\n",
              "</style>\n",
              "<table border=\"1\" class=\"dataframe\">\n",
              "  <thead>\n",
              "    <tr style=\"text-align: right;\">\n",
              "      <th></th>\n",
              "      <th>Survived</th>\n",
              "      <th>Pclass</th>\n",
              "      <th>Sex</th>\n",
              "      <th>Age</th>\n",
              "      <th>SibSp</th>\n",
              "      <th>Parch</th>\n",
              "    </tr>\n",
              "  </thead>\n",
              "  <tbody>\n",
              "    <tr>\n",
              "      <th>1</th>\n",
              "      <td>1</td>\n",
              "      <td>1</td>\n",
              "      <td>0</td>\n",
              "      <td>38.0</td>\n",
              "      <td>1</td>\n",
              "      <td>0</td>\n",
              "    </tr>\n",
              "    <tr>\n",
              "      <th>3</th>\n",
              "      <td>1</td>\n",
              "      <td>1</td>\n",
              "      <td>0</td>\n",
              "      <td>35.0</td>\n",
              "      <td>1</td>\n",
              "      <td>0</td>\n",
              "    </tr>\n",
              "    <tr>\n",
              "      <th>6</th>\n",
              "      <td>0</td>\n",
              "      <td>1</td>\n",
              "      <td>1</td>\n",
              "      <td>54.0</td>\n",
              "      <td>0</td>\n",
              "      <td>0</td>\n",
              "    </tr>\n",
              "    <tr>\n",
              "      <th>10</th>\n",
              "      <td>1</td>\n",
              "      <td>3</td>\n",
              "      <td>0</td>\n",
              "      <td>4.0</td>\n",
              "      <td>1</td>\n",
              "      <td>1</td>\n",
              "    </tr>\n",
              "    <tr>\n",
              "      <th>11</th>\n",
              "      <td>1</td>\n",
              "      <td>1</td>\n",
              "      <td>0</td>\n",
              "      <td>58.0</td>\n",
              "      <td>0</td>\n",
              "      <td>0</td>\n",
              "    </tr>\n",
              "  </tbody>\n",
              "</table>\n",
              "</div>\n",
              "      <button class=\"colab-df-convert\" onclick=\"convertToInteractive('df-eec817dd-e359-447c-8761-d564ffec4070')\"\n",
              "              title=\"Convert this dataframe to an interactive table.\"\n",
              "              style=\"display:none;\">\n",
              "        \n",
              "  <svg xmlns=\"http://www.w3.org/2000/svg\" height=\"24px\"viewBox=\"0 0 24 24\"\n",
              "       width=\"24px\">\n",
              "    <path d=\"M0 0h24v24H0V0z\" fill=\"none\"/>\n",
              "    <path d=\"M18.56 5.44l.94 2.06.94-2.06 2.06-.94-2.06-.94-.94-2.06-.94 2.06-2.06.94zm-11 1L8.5 8.5l.94-2.06 2.06-.94-2.06-.94L8.5 2.5l-.94 2.06-2.06.94zm10 10l.94 2.06.94-2.06 2.06-.94-2.06-.94-.94-2.06-.94 2.06-2.06.94z\"/><path d=\"M17.41 7.96l-1.37-1.37c-.4-.4-.92-.59-1.43-.59-.52 0-1.04.2-1.43.59L10.3 9.45l-7.72 7.72c-.78.78-.78 2.05 0 2.83L4 21.41c.39.39.9.59 1.41.59.51 0 1.02-.2 1.41-.59l7.78-7.78 2.81-2.81c.8-.78.8-2.07 0-2.86zM5.41 20L4 18.59l7.72-7.72 1.47 1.35L5.41 20z\"/>\n",
              "  </svg>\n",
              "      </button>\n",
              "      \n",
              "  <style>\n",
              "    .colab-df-container {\n",
              "      display:flex;\n",
              "      flex-wrap:wrap;\n",
              "      gap: 12px;\n",
              "    }\n",
              "\n",
              "    .colab-df-convert {\n",
              "      background-color: #E8F0FE;\n",
              "      border: none;\n",
              "      border-radius: 50%;\n",
              "      cursor: pointer;\n",
              "      display: none;\n",
              "      fill: #1967D2;\n",
              "      height: 32px;\n",
              "      padding: 0 0 0 0;\n",
              "      width: 32px;\n",
              "    }\n",
              "\n",
              "    .colab-df-convert:hover {\n",
              "      background-color: #E2EBFA;\n",
              "      box-shadow: 0px 1px 2px rgba(60, 64, 67, 0.3), 0px 1px 3px 1px rgba(60, 64, 67, 0.15);\n",
              "      fill: #174EA6;\n",
              "    }\n",
              "\n",
              "    [theme=dark] .colab-df-convert {\n",
              "      background-color: #3B4455;\n",
              "      fill: #D2E3FC;\n",
              "    }\n",
              "\n",
              "    [theme=dark] .colab-df-convert:hover {\n",
              "      background-color: #434B5C;\n",
              "      box-shadow: 0px 1px 3px 1px rgba(0, 0, 0, 0.15);\n",
              "      filter: drop-shadow(0px 1px 2px rgba(0, 0, 0, 0.3));\n",
              "      fill: #FFFFFF;\n",
              "    }\n",
              "  </style>\n",
              "\n",
              "      <script>\n",
              "        const buttonEl =\n",
              "          document.querySelector('#df-eec817dd-e359-447c-8761-d564ffec4070 button.colab-df-convert');\n",
              "        buttonEl.style.display =\n",
              "          google.colab.kernel.accessAllowed ? 'block' : 'none';\n",
              "\n",
              "        async function convertToInteractive(key) {\n",
              "          const element = document.querySelector('#df-eec817dd-e359-447c-8761-d564ffec4070');\n",
              "          const dataTable =\n",
              "            await google.colab.kernel.invokeFunction('convertToInteractive',\n",
              "                                                     [key], {});\n",
              "          if (!dataTable) return;\n",
              "\n",
              "          const docLinkHtml = 'Like what you see? Visit the ' +\n",
              "            '<a target=\"_blank\" href=https://colab.research.google.com/notebooks/data_table.ipynb>data table notebook</a>'\n",
              "            + ' to learn more about interactive tables.';\n",
              "          element.innerHTML = '';\n",
              "          dataTable['output_type'] = 'display_data';\n",
              "          await google.colab.output.renderOutput(dataTable, element);\n",
              "          const docLink = document.createElement('div');\n",
              "          docLink.innerHTML = docLinkHtml;\n",
              "          element.appendChild(docLink);\n",
              "        }\n",
              "      </script>\n",
              "    </div>\n",
              "  </div>\n",
              "  "
            ]
          },
          "metadata": {},
          "execution_count": 126
        }
      ]
    },
    {
      "cell_type": "code",
      "source": [
        "df['Age'].unique()"
      ],
      "metadata": {
        "id": "ptflON460xnt",
        "outputId": "c8026663-fde1-473f-d695-3546db9e9031",
        "colab": {
          "base_uri": "https://localhost:8080/"
        }
      },
      "execution_count": 127,
      "outputs": [
        {
          "output_type": "execute_result",
          "data": {
            "text/plain": [
              "array([38.  , 35.  , 54.  ,  4.  , 58.  , 34.  , 28.  , 19.  , 49.  ,\n",
              "       65.  , 45.  , 29.  , 25.  , 23.  , 46.  , 71.  , 21.  , 47.  ,\n",
              "       24.  , 32.5 , 37.  , 36.5 , 22.  , 61.  , 56.  , 50.  ,  1.  ,\n",
              "        3.  , 44.  ,  2.  , 40.  , 31.  , 32.  , 62.  , 30.  , 52.  ,\n",
              "       63.  , 36.  ,  0.92, 17.  , 18.  , 16.  , 45.5 , 41.  , 60.  ,\n",
              "       27.  , 33.  , 14.  , 64.  , 48.  , 55.  , 39.  , 53.  , 42.  ,\n",
              "       80.  , 15.  , 70.  ,  6.  , 51.  , 57.  , 43.  , 11.  , 26.  ])"
            ]
          },
          "metadata": {},
          "execution_count": 127
        }
      ]
    },
    {
      "cell_type": "code",
      "source": [
        "df['Age'] = df['Age'].map(str)\n",
        "df['Age'] = df['Age'].replace({'0.92' : '1.0', '.5' : '', '.0' : ''})\n",
        "df['Age'] = df['Age'].str[:-2]"
      ],
      "metadata": {
        "id": "r_zwTJ1d1ITw"
      },
      "execution_count": 128,
      "outputs": []
    },
    {
      "cell_type": "code",
      "source": [
        "df['Age'].unique()"
      ],
      "metadata": {
        "colab": {
          "base_uri": "https://localhost:8080/"
        },
        "id": "m6nsgMjyOFiv",
        "outputId": "a0cef112-1f9a-46d5-df1a-894108421bd2"
      },
      "execution_count": 129,
      "outputs": [
        {
          "output_type": "execute_result",
          "data": {
            "text/plain": [
              "array(['38', '35', '54', '4', '58', '34', '28', '19', '49', '65', '45',\n",
              "       '29', '25', '23', '46', '71', '21', '47', '24', '32', '37', '36',\n",
              "       '22', '61', '56', '50', '1', '3', '44', '2', '40', '31', '62',\n",
              "       '30', '52', '63', '17', '18', '16', '41', '60', '27', '33', '14',\n",
              "       '64', '48', '55', '39', '53', '42', '80', '15', '70', '6', '51',\n",
              "       '57', '43', '11', '26'], dtype=object)"
            ]
          },
          "metadata": {},
          "execution_count": 129
        }
      ]
    },
    {
      "cell_type": "code",
      "source": [
        "df.shape"
      ],
      "metadata": {
        "id": "Orw7-AXEwRNj",
        "outputId": "27935c93-d582-4344-9fd4-6b834e9c1e45",
        "colab": {
          "base_uri": "https://localhost:8080/"
        }
      },
      "execution_count": 130,
      "outputs": [
        {
          "output_type": "execute_result",
          "data": {
            "text/plain": [
              "(183, 6)"
            ]
          },
          "metadata": {},
          "execution_count": 130
        }
      ]
    },
    {
      "cell_type": "code",
      "source": [
        "previsores = df.iloc[:, 1:5].values"
      ],
      "metadata": {
        "id": "GLoSLlzpwEVw"
      },
      "execution_count": 134,
      "outputs": []
    },
    {
      "cell_type": "code",
      "source": [
        "previsores"
      ],
      "metadata": {
        "id": "JQw1Q4qWwIWC",
        "outputId": "859e4f0e-a530-4ba2-bbed-f5b81fe4ff5a",
        "colab": {
          "base_uri": "https://localhost:8080/"
        }
      },
      "execution_count": 135,
      "outputs": [
        {
          "output_type": "execute_result",
          "data": {
            "text/plain": [
              "array([[1, 0, '38', 1],\n",
              "       [1, 0, '35', 1],\n",
              "       [1, 1, '54', 0],\n",
              "       [3, 0, '4', 1],\n",
              "       [1, 0, '58', 0],\n",
              "       [2, 1, '34', 0],\n",
              "       [1, 1, '28', 0],\n",
              "       [1, 1, '19', 3],\n",
              "       [1, 0, '49', 1],\n",
              "       [1, 1, '65', 0],\n",
              "       [1, 1, '45', 1],\n",
              "       [2, 0, '29', 0],\n",
              "       [3, 1, '25', 0],\n",
              "       [1, 0, '23', 3],\n",
              "       [1, 1, '46', 1],\n",
              "       [1, 1, '71', 0],\n",
              "       [1, 1, '23', 0],\n",
              "       [1, 1, '21', 0],\n",
              "       [1, 1, '47', 0],\n",
              "       [1, 1, '24', 0],\n",
              "       [2, 0, '32', 0],\n",
              "       [1, 1, '54', 0],\n",
              "       [1, 0, '19', 0],\n",
              "       [1, 1, '37', 1],\n",
              "       [1, 1, '24', 0],\n",
              "       [2, 1, '36', 0],\n",
              "       [1, 0, '22', 1],\n",
              "       [1, 1, '61', 0],\n",
              "       [1, 1, '56', 0],\n",
              "       [1, 0, '50', 0],\n",
              "       [2, 1, '1', 2],\n",
              "       [2, 1, '3', 1],\n",
              "       [1, 0, '44', 0],\n",
              "       [1, 0, '58', 0],\n",
              "       [3, 0, '2', 0],\n",
              "       [1, 1, '40', 0],\n",
              "       [1, 0, '31', 1],\n",
              "       [1, 0, '32', 0],\n",
              "       [1, 1, '38', 1],\n",
              "       [1, 0, '35', 1],\n",
              "       [1, 1, '44', 2],\n",
              "       [1, 1, '37', 1],\n",
              "       [3, 0, '29', 1],\n",
              "       [1, 1, '62', 0],\n",
              "       [1, 0, '30', 0],\n",
              "       [1, 1, '52', 1],\n",
              "       [1, 1, '40', 0],\n",
              "       [1, 0, '58', 0],\n",
              "       [1, 0, '35', 0],\n",
              "       [1, 1, '37', 0],\n",
              "       [1, 0, '63', 1],\n",
              "       [1, 0, '19', 1],\n",
              "       [2, 1, '36', 0],\n",
              "       [1, 0, '2', 1],\n",
              "       [1, 0, '50', 0],\n",
              "       [1, 1, '1', 1],\n",
              "       [1, 0, '17', 1],\n",
              "       [1, 0, '30', 0],\n",
              "       [1, 0, '24', 0],\n",
              "       [1, 0, '18', 2],\n",
              "       [1, 0, '31', 0],\n",
              "       [1, 0, '40', 1],\n",
              "       [1, 0, '36', 0],\n",
              "       [2, 0, '36', 0],\n",
              "       [1, 0, '16', 0],\n",
              "       [1, 1, '45', 0],\n",
              "       [1, 1, '38', 0],\n",
              "       [1, 1, '29', 1],\n",
              "       [1, 0, '41', 0],\n",
              "       [1, 1, '45', 0],\n",
              "       [2, 1, '2', 1],\n",
              "       [1, 0, '24', 3],\n",
              "       [2, 0, '24', 0],\n",
              "       [1, 0, '22', 0],\n",
              "       [1, 0, '60', 1],\n",
              "       [1, 0, '24', 0],\n",
              "       [1, 1, '25', 1],\n",
              "       [1, 1, '27', 0],\n",
              "       [1, 1, '36', 1],\n",
              "       [1, 0, '23', 1],\n",
              "       [3, 0, '24', 0],\n",
              "       [1, 0, '33', 1],\n",
              "       [3, 1, '32', 0],\n",
              "       [1, 1, '28', 0],\n",
              "       [1, 1, '50', 1],\n",
              "       [1, 0, '14', 1],\n",
              "       [1, 1, '64', 1],\n",
              "       [1, 1, '4', 0],\n",
              "       [1, 1, '52', 0],\n",
              "       [1, 1, '30', 0],\n",
              "       [1, 1, '49', 1],\n",
              "       [1, 1, '65', 0],\n",
              "       [1, 1, '48', 0],\n",
              "       [1, 1, '47', 0],\n",
              "       [2, 0, '23', 0],\n",
              "       [1, 1, '25', 1],\n",
              "       [1, 0, '35', 1],\n",
              "       [1, 1, '58', 0],\n",
              "       [1, 1, '55', 0],\n",
              "       [1, 0, '54', 1],\n",
              "       [1, 0, '25', 1],\n",
              "       [1, 0, '16', 0],\n",
              "       [1, 1, '18', 1],\n",
              "       [1, 1, '36', 0],\n",
              "       [1, 1, '47', 0],\n",
              "       [2, 0, '34', 0],\n",
              "       [1, 0, '30', 0],\n",
              "       [1, 0, '44', 0],\n",
              "       [1, 1, '45', 0],\n",
              "       [1, 0, '22', 0],\n",
              "       [1, 0, '36', 0],\n",
              "       [1, 1, '50', 1],\n",
              "       [1, 1, '17', 0],\n",
              "       [1, 0, '48', 1],\n",
              "       [1, 0, '39', 1],\n",
              "       [1, 0, '53', 2],\n",
              "       [1, 1, '36', 0],\n",
              "       [1, 0, '39', 1],\n",
              "       [1, 0, '39', 1],\n",
              "       [1, 1, '36', 0],\n",
              "       [1, 0, '18', 0],\n",
              "       [1, 1, '60', 1],\n",
              "       [1, 0, '52', 1],\n",
              "       [1, 1, '49', 1],\n",
              "       [1, 0, '40', 0],\n",
              "       [2, 0, '4', 2],\n",
              "       [1, 1, '42', 1],\n",
              "       [1, 1, '61', 0],\n",
              "       [1, 0, '21', 0],\n",
              "       [1, 1, '80', 0],\n",
              "       [1, 1, '32', 0],\n",
              "       [1, 0, '24', 0],\n",
              "       [1, 1, '48', 1],\n",
              "       [1, 1, '56', 0],\n",
              "       [1, 1, '58', 0],\n",
              "       [1, 1, '47', 0],\n",
              "       [1, 1, '31', 1],\n",
              "       [1, 1, '36', 0],\n",
              "       [1, 1, '27', 0],\n",
              "       [1, 0, '15', 0],\n",
              "       [1, 1, '31', 1],\n",
              "       [1, 1, '49', 1],\n",
              "       [3, 1, '42', 0],\n",
              "       [1, 0, '18', 1],\n",
              "       [1, 1, '35', 0],\n",
              "       [1, 1, '42', 0],\n",
              "       [1, 0, '24', 0],\n",
              "       [1, 1, '48', 1],\n",
              "       [3, 1, '19', 0],\n",
              "       [1, 0, '38', 0],\n",
              "       [2, 0, '27', 0],\n",
              "       [1, 1, '27', 1],\n",
              "       [1, 0, '29', 0],\n",
              "       [1, 1, '35', 0],\n",
              "       [1, 1, '36', 1],\n",
              "       [1, 0, '21', 2],\n",
              "       [1, 1, '70', 1],\n",
              "       [1, 1, '19', 1],\n",
              "       [3, 1, '6', 0],\n",
              "       [1, 0, '33', 0],\n",
              "       [1, 0, '36', 1],\n",
              "       [1, 0, '51', 1],\n",
              "       [2, 0, '57', 0],\n",
              "       [1, 0, '43', 0],\n",
              "       [1, 0, '17', 1],\n",
              "       [1, 1, '29', 0],\n",
              "       [1, 1, '46', 0],\n",
              "       [1, 0, '49', 0],\n",
              "       [1, 1, '11', 1],\n",
              "       [1, 1, '39', 0],\n",
              "       [1, 0, '33', 1],\n",
              "       [1, 0, '52', 1],\n",
              "       [3, 0, '27', 0],\n",
              "       [1, 0, '39', 1],\n",
              "       [1, 0, '16', 0],\n",
              "       [1, 1, '51', 0],\n",
              "       [1, 0, '48', 0],\n",
              "       [1, 1, '31', 0],\n",
              "       [1, 0, '47', 1],\n",
              "       [1, 1, '33', 0],\n",
              "       [1, 0, '56', 0],\n",
              "       [1, 0, '19', 0],\n",
              "       [1, 1, '26', 0]], dtype=object)"
            ]
          },
          "metadata": {},
          "execution_count": 135
        }
      ]
    },
    {
      "cell_type": "code",
      "source": [
        "previsores.shape"
      ],
      "metadata": {
        "id": "7jXS4rvbweqY",
        "outputId": "8e492180-d144-4a59-9f56-7d26981d30c4",
        "colab": {
          "base_uri": "https://localhost:8080/"
        }
      },
      "execution_count": 136,
      "outputs": [
        {
          "output_type": "execute_result",
          "data": {
            "text/plain": [
              "(183, 4)"
            ]
          },
          "metadata": {},
          "execution_count": 136
        }
      ]
    },
    {
      "cell_type": "code",
      "source": [
        "alvo = df.iloc[:, 0].values"
      ],
      "metadata": {
        "id": "5G88oN88whcj"
      },
      "execution_count": 139,
      "outputs": []
    },
    {
      "cell_type": "code",
      "source": [
        "alvo"
      ],
      "metadata": {
        "id": "vQ7LQslCwjcs",
        "outputId": "e04c303d-ade5-44db-f19c-4326ac165349",
        "colab": {
          "base_uri": "https://localhost:8080/"
        }
      },
      "execution_count": 140,
      "outputs": [
        {
          "output_type": "execute_result",
          "data": {
            "text/plain": [
              "array([1, 1, 0, 1, 1, 1, 1, 0, 1, 0, 0, 1, 0, 1, 0, 0, 1, 0, 0, 0, 1, 0,\n",
              "       1, 0, 0, 0, 1, 0, 0, 0, 1, 1, 1, 1, 0, 1, 1, 1, 1, 1, 0, 1, 0, 0,\n",
              "       1, 0, 0, 1, 1, 0, 1, 1, 0, 0, 1, 1, 1, 1, 1, 1, 1, 1, 1, 1, 1, 0,\n",
              "       0, 0, 1, 0, 1, 1, 1, 1, 1, 1, 1, 0, 1, 1, 1, 1, 1, 1, 0, 1, 0, 1,\n",
              "       1, 0, 1, 0, 1, 0, 1, 1, 1, 0, 0, 1, 0, 1, 0, 1, 0, 1, 1, 1, 0, 1,\n",
              "       1, 0, 1, 1, 1, 1, 1, 1, 1, 0, 1, 1, 1, 1, 1, 1, 1, 0, 1, 1, 1, 1,\n",
              "       1, 1, 0, 0, 0, 1, 1, 1, 1, 0, 0, 1, 1, 1, 1, 1, 0, 1, 1, 1, 1, 1,\n",
              "       0, 1, 0, 0, 1, 1, 1, 1, 0, 1, 1, 0, 0, 1, 1, 0, 1, 1, 1, 1, 1, 1,\n",
              "       1, 0, 1, 0, 1, 1, 1])"
            ]
          },
          "metadata": {},
          "execution_count": 140
        }
      ]
    },
    {
      "cell_type": "code",
      "source": [
        "alvo.shape"
      ],
      "metadata": {
        "colab": {
          "base_uri": "https://localhost:8080/"
        },
        "id": "GMM_-8pQVJzZ",
        "outputId": "6d764996-389f-42fe-c623-f5985591a868"
      },
      "execution_count": 142,
      "outputs": [
        {
          "output_type": "execute_result",
          "data": {
            "text/plain": [
              "(183,)"
            ]
          },
          "metadata": {},
          "execution_count": 142
        }
      ]
    },
    {
      "cell_type": "markdown",
      "source": [
        "# **ESCALONAMENTO**"
      ],
      "metadata": {
        "id": "jow1bcCoWWaF"
      }
    },
    {
      "cell_type": "code",
      "source": [
        "from sklearn.preprocessing import StandardScaler"
      ],
      "metadata": {
        "id": "OPStrEjlWVkQ"
      },
      "execution_count": 143,
      "outputs": []
    },
    {
      "cell_type": "code",
      "source": [
        "previsores_esc = StandardScaler().fit_transform(previsores)"
      ],
      "metadata": {
        "id": "M-0G-5aLWdD6"
      },
      "execution_count": 144,
      "outputs": []
    },
    {
      "cell_type": "code",
      "source": [
        "previsores_esc"
      ],
      "metadata": {
        "colab": {
          "base_uri": "https://localhost:8080/"
        },
        "id": "YQFIRLh6WhDe",
        "outputId": "06e3e73f-7954-4fe0-e387-e020848f62ba"
      },
      "execution_count": 145,
      "outputs": [
        {
          "output_type": "execute_result",
          "data": {
            "text/plain": [
              "array([[-0.37225618, -1.03901177,  0.14958308,  0.83362754],\n",
              "       [-0.37225618, -1.03901177, -0.04273802,  0.83362754],\n",
              "       [-0.37225618,  0.96245301,  1.17529566, -0.7230443 ],\n",
              "       [ 3.52047984, -1.03901177, -2.03005615,  0.83362754],\n",
              "       [-0.37225618, -1.03901177,  1.43172381, -0.7230443 ],\n",
              "       [ 1.57411183,  0.96245301, -0.10684506, -0.7230443 ],\n",
              "       [-0.37225618,  0.96245301, -0.49148728, -0.7230443 ],\n",
              "       [-0.37225618,  0.96245301, -1.0684506 ,  3.94697121],\n",
              "       [-0.37225618, -1.03901177,  0.85476048,  0.83362754],\n",
              "       [-0.37225618,  0.96245301,  1.88047306, -0.7230443 ],\n",
              "       [-0.37225618,  0.96245301,  0.59833234,  0.83362754],\n",
              "       [ 1.57411183, -1.03901177, -0.42738024, -0.7230443 ],\n",
              "       [ 3.52047984,  0.96245301, -0.68380839, -0.7230443 ],\n",
              "       [-0.37225618, -1.03901177, -0.81202246,  3.94697121],\n",
              "       [-0.37225618,  0.96245301,  0.66243937,  0.83362754],\n",
              "       [-0.37225618,  0.96245301,  2.26511528, -0.7230443 ],\n",
              "       [-0.37225618,  0.96245301, -0.81202246, -0.7230443 ],\n",
              "       [-0.37225618,  0.96245301, -0.94023653, -0.7230443 ],\n",
              "       [-0.37225618,  0.96245301,  0.72654641, -0.7230443 ],\n",
              "       [-0.37225618,  0.96245301, -0.74791542, -0.7230443 ],\n",
              "       [ 1.57411183, -1.03901177, -0.23505913, -0.7230443 ],\n",
              "       [-0.37225618,  0.96245301,  1.17529566, -0.7230443 ],\n",
              "       [-0.37225618, -1.03901177, -1.0684506 , -0.7230443 ],\n",
              "       [-0.37225618,  0.96245301,  0.08547605,  0.83362754],\n",
              "       [-0.37225618,  0.96245301, -0.74791542, -0.7230443 ],\n",
              "       [ 1.57411183,  0.96245301,  0.02136901, -0.7230443 ],\n",
              "       [-0.37225618, -1.03901177, -0.8761295 ,  0.83362754],\n",
              "       [-0.37225618,  0.96245301,  1.62404492, -0.7230443 ],\n",
              "       [-0.37225618,  0.96245301,  1.30350974, -0.7230443 ],\n",
              "       [-0.37225618, -1.03901177,  0.91886752, -0.7230443 ],\n",
              "       [ 1.57411183,  0.96245301, -2.22237726,  2.39029938],\n",
              "       [ 1.57411183,  0.96245301, -2.09416318,  0.83362754],\n",
              "       [-0.37225618, -1.03901177,  0.5342253 , -0.7230443 ],\n",
              "       [-0.37225618, -1.03901177,  1.43172381, -0.7230443 ],\n",
              "       [ 3.52047984, -1.03901177, -2.15827022, -0.7230443 ],\n",
              "       [-0.37225618,  0.96245301,  0.27779716, -0.7230443 ],\n",
              "       [-0.37225618, -1.03901177, -0.29916617,  0.83362754],\n",
              "       [-0.37225618, -1.03901177, -0.23505913, -0.7230443 ],\n",
              "       [-0.37225618,  0.96245301,  0.14958308,  0.83362754],\n",
              "       [-0.37225618, -1.03901177, -0.04273802,  0.83362754],\n",
              "       [-0.37225618,  0.96245301,  0.5342253 ,  2.39029938],\n",
              "       [-0.37225618,  0.96245301,  0.08547605,  0.83362754],\n",
              "       [ 3.52047984, -1.03901177, -0.42738024,  0.83362754],\n",
              "       [-0.37225618,  0.96245301,  1.68815195, -0.7230443 ],\n",
              "       [-0.37225618, -1.03901177, -0.36327321, -0.7230443 ],\n",
              "       [-0.37225618,  0.96245301,  1.04708159,  0.83362754],\n",
              "       [-0.37225618,  0.96245301,  0.27779716, -0.7230443 ],\n",
              "       [-0.37225618, -1.03901177,  1.43172381, -0.7230443 ],\n",
              "       [-0.37225618, -1.03901177, -0.04273802, -0.7230443 ],\n",
              "       [-0.37225618,  0.96245301,  0.08547605, -0.7230443 ],\n",
              "       [-0.37225618, -1.03901177,  1.75225899,  0.83362754],\n",
              "       [-0.37225618, -1.03901177, -1.0684506 ,  0.83362754],\n",
              "       [ 1.57411183,  0.96245301,  0.02136901, -0.7230443 ],\n",
              "       [-0.37225618, -1.03901177, -2.15827022,  0.83362754],\n",
              "       [-0.37225618, -1.03901177,  0.91886752, -0.7230443 ],\n",
              "       [-0.37225618,  0.96245301, -2.22237726,  0.83362754],\n",
              "       [-0.37225618, -1.03901177, -1.19666468,  0.83362754],\n",
              "       [-0.37225618, -1.03901177, -0.36327321, -0.7230443 ],\n",
              "       [-0.37225618, -1.03901177, -0.74791542, -0.7230443 ],\n",
              "       [-0.37225618, -1.03901177, -1.13255764,  2.39029938],\n",
              "       [-0.37225618, -1.03901177, -0.29916617, -0.7230443 ],\n",
              "       [-0.37225618, -1.03901177,  0.27779716,  0.83362754],\n",
              "       [-0.37225618, -1.03901177,  0.02136901, -0.7230443 ],\n",
              "       [ 1.57411183, -1.03901177,  0.02136901, -0.7230443 ],\n",
              "       [-0.37225618, -1.03901177, -1.26077171, -0.7230443 ],\n",
              "       [-0.37225618,  0.96245301,  0.59833234, -0.7230443 ],\n",
              "       [-0.37225618,  0.96245301,  0.14958308, -0.7230443 ],\n",
              "       [-0.37225618,  0.96245301, -0.42738024,  0.83362754],\n",
              "       [-0.37225618, -1.03901177,  0.34190419, -0.7230443 ],\n",
              "       [-0.37225618,  0.96245301,  0.59833234, -0.7230443 ],\n",
              "       [ 1.57411183,  0.96245301, -2.15827022,  0.83362754],\n",
              "       [-0.37225618, -1.03901177, -0.74791542,  3.94697121],\n",
              "       [ 1.57411183, -1.03901177, -0.74791542, -0.7230443 ],\n",
              "       [-0.37225618, -1.03901177, -0.8761295 , -0.7230443 ],\n",
              "       [-0.37225618, -1.03901177,  1.55993788,  0.83362754],\n",
              "       [-0.37225618, -1.03901177, -0.74791542, -0.7230443 ],\n",
              "       [-0.37225618,  0.96245301, -0.68380839,  0.83362754],\n",
              "       [-0.37225618,  0.96245301, -0.55559431, -0.7230443 ],\n",
              "       [-0.37225618,  0.96245301,  0.02136901,  0.83362754],\n",
              "       [-0.37225618, -1.03901177, -0.81202246,  0.83362754],\n",
              "       [ 3.52047984, -1.03901177, -0.74791542, -0.7230443 ],\n",
              "       [-0.37225618, -1.03901177, -0.1709521 ,  0.83362754],\n",
              "       [ 3.52047984,  0.96245301, -0.23505913, -0.7230443 ],\n",
              "       [-0.37225618,  0.96245301, -0.49148728, -0.7230443 ],\n",
              "       [-0.37225618,  0.96245301,  0.91886752,  0.83362754],\n",
              "       [-0.37225618, -1.03901177, -1.38898579,  0.83362754],\n",
              "       [-0.37225618,  0.96245301,  1.81636603,  0.83362754],\n",
              "       [-0.37225618,  0.96245301, -2.03005615, -0.7230443 ],\n",
              "       [-0.37225618,  0.96245301,  1.04708159, -0.7230443 ],\n",
              "       [-0.37225618,  0.96245301, -0.36327321, -0.7230443 ],\n",
              "       [-0.37225618,  0.96245301,  0.85476048,  0.83362754],\n",
              "       [-0.37225618,  0.96245301,  1.88047306, -0.7230443 ],\n",
              "       [-0.37225618,  0.96245301,  0.79065345, -0.7230443 ],\n",
              "       [-0.37225618,  0.96245301,  0.72654641, -0.7230443 ],\n",
              "       [ 1.57411183, -1.03901177, -0.81202246, -0.7230443 ],\n",
              "       [-0.37225618,  0.96245301, -0.68380839,  0.83362754],\n",
              "       [-0.37225618, -1.03901177, -0.04273802,  0.83362754],\n",
              "       [-0.37225618,  0.96245301,  1.43172381, -0.7230443 ],\n",
              "       [-0.37225618,  0.96245301,  1.2394027 , -0.7230443 ],\n",
              "       [-0.37225618, -1.03901177,  1.17529566,  0.83362754],\n",
              "       [-0.37225618, -1.03901177, -0.68380839,  0.83362754],\n",
              "       [-0.37225618, -1.03901177, -1.26077171, -0.7230443 ],\n",
              "       [-0.37225618,  0.96245301, -1.13255764,  0.83362754],\n",
              "       [-0.37225618,  0.96245301,  0.02136901, -0.7230443 ],\n",
              "       [-0.37225618,  0.96245301,  0.72654641, -0.7230443 ],\n",
              "       [ 1.57411183, -1.03901177, -0.10684506, -0.7230443 ],\n",
              "       [-0.37225618, -1.03901177, -0.36327321, -0.7230443 ],\n",
              "       [-0.37225618, -1.03901177,  0.5342253 , -0.7230443 ],\n",
              "       [-0.37225618,  0.96245301,  0.59833234, -0.7230443 ],\n",
              "       [-0.37225618, -1.03901177, -0.8761295 , -0.7230443 ],\n",
              "       [-0.37225618, -1.03901177,  0.02136901, -0.7230443 ],\n",
              "       [-0.37225618,  0.96245301,  0.91886752,  0.83362754],\n",
              "       [-0.37225618,  0.96245301, -1.19666468, -0.7230443 ],\n",
              "       [-0.37225618, -1.03901177,  0.79065345,  0.83362754],\n",
              "       [-0.37225618, -1.03901177,  0.21369012,  0.83362754],\n",
              "       [-0.37225618, -1.03901177,  1.11118863,  2.39029938],\n",
              "       [-0.37225618,  0.96245301,  0.02136901, -0.7230443 ],\n",
              "       [-0.37225618, -1.03901177,  0.21369012,  0.83362754],\n",
              "       [-0.37225618, -1.03901177,  0.21369012,  0.83362754],\n",
              "       [-0.37225618,  0.96245301,  0.02136901, -0.7230443 ],\n",
              "       [-0.37225618, -1.03901177, -1.13255764, -0.7230443 ],\n",
              "       [-0.37225618,  0.96245301,  1.55993788,  0.83362754],\n",
              "       [-0.37225618, -1.03901177,  1.04708159,  0.83362754],\n",
              "       [-0.37225618,  0.96245301,  0.85476048,  0.83362754],\n",
              "       [-0.37225618, -1.03901177,  0.27779716, -0.7230443 ],\n",
              "       [ 1.57411183, -1.03901177, -2.03005615,  2.39029938],\n",
              "       [-0.37225618,  0.96245301,  0.40601123,  0.83362754],\n",
              "       [-0.37225618,  0.96245301,  1.62404492, -0.7230443 ],\n",
              "       [-0.37225618, -1.03901177, -0.94023653, -0.7230443 ],\n",
              "       [-0.37225618,  0.96245301,  2.84207861, -0.7230443 ],\n",
              "       [-0.37225618,  0.96245301, -0.23505913, -0.7230443 ],\n",
              "       [-0.37225618, -1.03901177, -0.74791542, -0.7230443 ],\n",
              "       [-0.37225618,  0.96245301,  0.79065345,  0.83362754],\n",
              "       [-0.37225618,  0.96245301,  1.30350974, -0.7230443 ],\n",
              "       [-0.37225618,  0.96245301,  1.43172381, -0.7230443 ],\n",
              "       [-0.37225618,  0.96245301,  0.72654641, -0.7230443 ],\n",
              "       [-0.37225618,  0.96245301, -0.29916617,  0.83362754],\n",
              "       [-0.37225618,  0.96245301,  0.02136901, -0.7230443 ],\n",
              "       [-0.37225618,  0.96245301, -0.55559431, -0.7230443 ],\n",
              "       [-0.37225618, -1.03901177, -1.32487875, -0.7230443 ],\n",
              "       [-0.37225618,  0.96245301, -0.29916617,  0.83362754],\n",
              "       [-0.37225618,  0.96245301,  0.85476048,  0.83362754],\n",
              "       [ 3.52047984,  0.96245301,  0.40601123, -0.7230443 ],\n",
              "       [-0.37225618, -1.03901177, -1.13255764,  0.83362754],\n",
              "       [-0.37225618,  0.96245301, -0.04273802, -0.7230443 ],\n",
              "       [-0.37225618,  0.96245301,  0.40601123, -0.7230443 ],\n",
              "       [-0.37225618, -1.03901177, -0.74791542, -0.7230443 ],\n",
              "       [-0.37225618,  0.96245301,  0.79065345,  0.83362754],\n",
              "       [ 3.52047984,  0.96245301, -1.0684506 , -0.7230443 ],\n",
              "       [-0.37225618, -1.03901177,  0.14958308, -0.7230443 ],\n",
              "       [ 1.57411183, -1.03901177, -0.55559431, -0.7230443 ],\n",
              "       [-0.37225618,  0.96245301, -0.55559431,  0.83362754],\n",
              "       [-0.37225618, -1.03901177, -0.42738024, -0.7230443 ],\n",
              "       [-0.37225618,  0.96245301, -0.04273802, -0.7230443 ],\n",
              "       [-0.37225618,  0.96245301,  0.02136901,  0.83362754],\n",
              "       [-0.37225618, -1.03901177, -0.94023653,  2.39029938],\n",
              "       [-0.37225618,  0.96245301,  2.20100824,  0.83362754],\n",
              "       [-0.37225618,  0.96245301, -1.0684506 ,  0.83362754],\n",
              "       [ 3.52047984,  0.96245301, -1.90184208, -0.7230443 ],\n",
              "       [-0.37225618, -1.03901177, -0.1709521 , -0.7230443 ],\n",
              "       [-0.37225618, -1.03901177,  0.02136901,  0.83362754],\n",
              "       [-0.37225618, -1.03901177,  0.98297456,  0.83362754],\n",
              "       [ 1.57411183, -1.03901177,  1.36761677, -0.7230443 ],\n",
              "       [-0.37225618, -1.03901177,  0.47011827, -0.7230443 ],\n",
              "       [-0.37225618, -1.03901177, -1.19666468,  0.83362754],\n",
              "       [-0.37225618,  0.96245301, -0.42738024, -0.7230443 ],\n",
              "       [-0.37225618,  0.96245301,  0.66243937, -0.7230443 ],\n",
              "       [-0.37225618, -1.03901177,  0.85476048, -0.7230443 ],\n",
              "       [-0.37225618,  0.96245301, -1.58130689,  0.83362754],\n",
              "       [-0.37225618,  0.96245301,  0.21369012, -0.7230443 ],\n",
              "       [-0.37225618, -1.03901177, -0.1709521 ,  0.83362754],\n",
              "       [-0.37225618, -1.03901177,  1.04708159,  0.83362754],\n",
              "       [ 3.52047984, -1.03901177, -0.55559431, -0.7230443 ],\n",
              "       [-0.37225618, -1.03901177,  0.21369012,  0.83362754],\n",
              "       [-0.37225618, -1.03901177, -1.26077171, -0.7230443 ],\n",
              "       [-0.37225618,  0.96245301,  0.98297456, -0.7230443 ],\n",
              "       [-0.37225618, -1.03901177,  0.79065345, -0.7230443 ],\n",
              "       [-0.37225618,  0.96245301, -0.29916617, -0.7230443 ],\n",
              "       [-0.37225618, -1.03901177,  0.72654641,  0.83362754],\n",
              "       [-0.37225618,  0.96245301, -0.1709521 , -0.7230443 ],\n",
              "       [-0.37225618, -1.03901177,  1.30350974, -0.7230443 ],\n",
              "       [-0.37225618, -1.03901177, -1.0684506 , -0.7230443 ],\n",
              "       [-0.37225618,  0.96245301, -0.61970135, -0.7230443 ]])"
            ]
          },
          "metadata": {},
          "execution_count": 145
        }
      ]
    },
    {
      "cell_type": "code",
      "source": [
        "previsoresdf = pd.DataFrame(previsores_esc)\n",
        "previsoresdf"
      ],
      "metadata": {
        "colab": {
          "base_uri": "https://localhost:8080/",
          "height": 424
        },
        "id": "GmhwkD-fWkCg",
        "outputId": "fb928215-a939-497b-8516-95dfb3d922ba"
      },
      "execution_count": 146,
      "outputs": [
        {
          "output_type": "execute_result",
          "data": {
            "text/plain": [
              "            0         1         2         3\n",
              "0   -0.372256 -1.039012  0.149583  0.833628\n",
              "1   -0.372256 -1.039012 -0.042738  0.833628\n",
              "2   -0.372256  0.962453  1.175296 -0.723044\n",
              "3    3.520480 -1.039012 -2.030056  0.833628\n",
              "4   -0.372256 -1.039012  1.431724 -0.723044\n",
              "..        ...       ...       ...       ...\n",
              "178 -0.372256 -1.039012  0.726546  0.833628\n",
              "179 -0.372256  0.962453 -0.170952 -0.723044\n",
              "180 -0.372256 -1.039012  1.303510 -0.723044\n",
              "181 -0.372256 -1.039012 -1.068451 -0.723044\n",
              "182 -0.372256  0.962453 -0.619701 -0.723044\n",
              "\n",
              "[183 rows x 4 columns]"
            ],
            "text/html": [
              "\n",
              "  <div id=\"df-45fbb62e-9916-4316-8c0f-e8808e29d1ca\">\n",
              "    <div class=\"colab-df-container\">\n",
              "      <div>\n",
              "<style scoped>\n",
              "    .dataframe tbody tr th:only-of-type {\n",
              "        vertical-align: middle;\n",
              "    }\n",
              "\n",
              "    .dataframe tbody tr th {\n",
              "        vertical-align: top;\n",
              "    }\n",
              "\n",
              "    .dataframe thead th {\n",
              "        text-align: right;\n",
              "    }\n",
              "</style>\n",
              "<table border=\"1\" class=\"dataframe\">\n",
              "  <thead>\n",
              "    <tr style=\"text-align: right;\">\n",
              "      <th></th>\n",
              "      <th>0</th>\n",
              "      <th>1</th>\n",
              "      <th>2</th>\n",
              "      <th>3</th>\n",
              "    </tr>\n",
              "  </thead>\n",
              "  <tbody>\n",
              "    <tr>\n",
              "      <th>0</th>\n",
              "      <td>-0.372256</td>\n",
              "      <td>-1.039012</td>\n",
              "      <td>0.149583</td>\n",
              "      <td>0.833628</td>\n",
              "    </tr>\n",
              "    <tr>\n",
              "      <th>1</th>\n",
              "      <td>-0.372256</td>\n",
              "      <td>-1.039012</td>\n",
              "      <td>-0.042738</td>\n",
              "      <td>0.833628</td>\n",
              "    </tr>\n",
              "    <tr>\n",
              "      <th>2</th>\n",
              "      <td>-0.372256</td>\n",
              "      <td>0.962453</td>\n",
              "      <td>1.175296</td>\n",
              "      <td>-0.723044</td>\n",
              "    </tr>\n",
              "    <tr>\n",
              "      <th>3</th>\n",
              "      <td>3.520480</td>\n",
              "      <td>-1.039012</td>\n",
              "      <td>-2.030056</td>\n",
              "      <td>0.833628</td>\n",
              "    </tr>\n",
              "    <tr>\n",
              "      <th>4</th>\n",
              "      <td>-0.372256</td>\n",
              "      <td>-1.039012</td>\n",
              "      <td>1.431724</td>\n",
              "      <td>-0.723044</td>\n",
              "    </tr>\n",
              "    <tr>\n",
              "      <th>...</th>\n",
              "      <td>...</td>\n",
              "      <td>...</td>\n",
              "      <td>...</td>\n",
              "      <td>...</td>\n",
              "    </tr>\n",
              "    <tr>\n",
              "      <th>178</th>\n",
              "      <td>-0.372256</td>\n",
              "      <td>-1.039012</td>\n",
              "      <td>0.726546</td>\n",
              "      <td>0.833628</td>\n",
              "    </tr>\n",
              "    <tr>\n",
              "      <th>179</th>\n",
              "      <td>-0.372256</td>\n",
              "      <td>0.962453</td>\n",
              "      <td>-0.170952</td>\n",
              "      <td>-0.723044</td>\n",
              "    </tr>\n",
              "    <tr>\n",
              "      <th>180</th>\n",
              "      <td>-0.372256</td>\n",
              "      <td>-1.039012</td>\n",
              "      <td>1.303510</td>\n",
              "      <td>-0.723044</td>\n",
              "    </tr>\n",
              "    <tr>\n",
              "      <th>181</th>\n",
              "      <td>-0.372256</td>\n",
              "      <td>-1.039012</td>\n",
              "      <td>-1.068451</td>\n",
              "      <td>-0.723044</td>\n",
              "    </tr>\n",
              "    <tr>\n",
              "      <th>182</th>\n",
              "      <td>-0.372256</td>\n",
              "      <td>0.962453</td>\n",
              "      <td>-0.619701</td>\n",
              "      <td>-0.723044</td>\n",
              "    </tr>\n",
              "  </tbody>\n",
              "</table>\n",
              "<p>183 rows × 4 columns</p>\n",
              "</div>\n",
              "      <button class=\"colab-df-convert\" onclick=\"convertToInteractive('df-45fbb62e-9916-4316-8c0f-e8808e29d1ca')\"\n",
              "              title=\"Convert this dataframe to an interactive table.\"\n",
              "              style=\"display:none;\">\n",
              "        \n",
              "  <svg xmlns=\"http://www.w3.org/2000/svg\" height=\"24px\"viewBox=\"0 0 24 24\"\n",
              "       width=\"24px\">\n",
              "    <path d=\"M0 0h24v24H0V0z\" fill=\"none\"/>\n",
              "    <path d=\"M18.56 5.44l.94 2.06.94-2.06 2.06-.94-2.06-.94-.94-2.06-.94 2.06-2.06.94zm-11 1L8.5 8.5l.94-2.06 2.06-.94-2.06-.94L8.5 2.5l-.94 2.06-2.06.94zm10 10l.94 2.06.94-2.06 2.06-.94-2.06-.94-.94-2.06-.94 2.06-2.06.94z\"/><path d=\"M17.41 7.96l-1.37-1.37c-.4-.4-.92-.59-1.43-.59-.52 0-1.04.2-1.43.59L10.3 9.45l-7.72 7.72c-.78.78-.78 2.05 0 2.83L4 21.41c.39.39.9.59 1.41.59.51 0 1.02-.2 1.41-.59l7.78-7.78 2.81-2.81c.8-.78.8-2.07 0-2.86zM5.41 20L4 18.59l7.72-7.72 1.47 1.35L5.41 20z\"/>\n",
              "  </svg>\n",
              "      </button>\n",
              "      \n",
              "  <style>\n",
              "    .colab-df-container {\n",
              "      display:flex;\n",
              "      flex-wrap:wrap;\n",
              "      gap: 12px;\n",
              "    }\n",
              "\n",
              "    .colab-df-convert {\n",
              "      background-color: #E8F0FE;\n",
              "      border: none;\n",
              "      border-radius: 50%;\n",
              "      cursor: pointer;\n",
              "      display: none;\n",
              "      fill: #1967D2;\n",
              "      height: 32px;\n",
              "      padding: 0 0 0 0;\n",
              "      width: 32px;\n",
              "    }\n",
              "\n",
              "    .colab-df-convert:hover {\n",
              "      background-color: #E2EBFA;\n",
              "      box-shadow: 0px 1px 2px rgba(60, 64, 67, 0.3), 0px 1px 3px 1px rgba(60, 64, 67, 0.15);\n",
              "      fill: #174EA6;\n",
              "    }\n",
              "\n",
              "    [theme=dark] .colab-df-convert {\n",
              "      background-color: #3B4455;\n",
              "      fill: #D2E3FC;\n",
              "    }\n",
              "\n",
              "    [theme=dark] .colab-df-convert:hover {\n",
              "      background-color: #434B5C;\n",
              "      box-shadow: 0px 1px 3px 1px rgba(0, 0, 0, 0.15);\n",
              "      filter: drop-shadow(0px 1px 2px rgba(0, 0, 0, 0.3));\n",
              "      fill: #FFFFFF;\n",
              "    }\n",
              "  </style>\n",
              "\n",
              "      <script>\n",
              "        const buttonEl =\n",
              "          document.querySelector('#df-45fbb62e-9916-4316-8c0f-e8808e29d1ca button.colab-df-convert');\n",
              "        buttonEl.style.display =\n",
              "          google.colab.kernel.accessAllowed ? 'block' : 'none';\n",
              "\n",
              "        async function convertToInteractive(key) {\n",
              "          const element = document.querySelector('#df-45fbb62e-9916-4316-8c0f-e8808e29d1ca');\n",
              "          const dataTable =\n",
              "            await google.colab.kernel.invokeFunction('convertToInteractive',\n",
              "                                                     [key], {});\n",
              "          if (!dataTable) return;\n",
              "\n",
              "          const docLinkHtml = 'Like what you see? Visit the ' +\n",
              "            '<a target=\"_blank\" href=https://colab.research.google.com/notebooks/data_table.ipynb>data table notebook</a>'\n",
              "            + ' to learn more about interactive tables.';\n",
              "          element.innerHTML = '';\n",
              "          dataTable['output_type'] = 'display_data';\n",
              "          await google.colab.output.renderOutput(dataTable, element);\n",
              "          const docLink = document.createElement('div');\n",
              "          docLink.innerHTML = docLinkHtml;\n",
              "          element.appendChild(docLink);\n",
              "        }\n",
              "      </script>\n",
              "    </div>\n",
              "  </div>\n",
              "  "
            ]
          },
          "metadata": {},
          "execution_count": 146
        }
      ]
    },
    {
      "cell_type": "markdown",
      "source": [
        "# **BASES**"
      ],
      "metadata": {
        "id": "lVBIYYVrWwrR"
      }
    },
    {
      "cell_type": "code",
      "source": [
        "from sklearn.model_selection import train_test_split"
      ],
      "metadata": {
        "id": "-aP60FRxWzec"
      },
      "execution_count": 147,
      "outputs": []
    },
    {
      "cell_type": "code",
      "source": [
        "x_treino, x_teste, y_treino, y_teste = train_test_split(previsores_esc, alvo, test_size = 0.3, random_state = 0)"
      ],
      "metadata": {
        "id": "VUbOPmgwW08J"
      },
      "execution_count": 148,
      "outputs": []
    },
    {
      "cell_type": "code",
      "source": [
        "x_treino.shape"
      ],
      "metadata": {
        "colab": {
          "base_uri": "https://localhost:8080/"
        },
        "id": "JCwjyVLQCPPb",
        "outputId": "54731303-d938-4a2e-fcb0-022ec76b452b"
      },
      "execution_count": 149,
      "outputs": [
        {
          "output_type": "execute_result",
          "data": {
            "text/plain": [
              "(128, 4)"
            ]
          },
          "metadata": {},
          "execution_count": 149
        }
      ]
    },
    {
      "cell_type": "code",
      "source": [
        "x_teste.shape"
      ],
      "metadata": {
        "colab": {
          "base_uri": "https://localhost:8080/"
        },
        "id": "w_hXC9Y_CQKb",
        "outputId": "1facd78c-0e03-468a-b0bb-17f334daa731"
      },
      "execution_count": 153,
      "outputs": [
        {
          "output_type": "execute_result",
          "data": {
            "text/plain": [
              "(55, 4)"
            ]
          },
          "metadata": {},
          "execution_count": 153
        }
      ]
    },
    {
      "cell_type": "code",
      "source": [
        "y_treino.shape"
      ],
      "metadata": {
        "colab": {
          "base_uri": "https://localhost:8080/"
        },
        "id": "u1QHEHuxCRqi",
        "outputId": "89f953f9-561d-4b1e-9dd5-88cdb13b3884"
      },
      "execution_count": 154,
      "outputs": [
        {
          "output_type": "execute_result",
          "data": {
            "text/plain": [
              "(128,)"
            ]
          },
          "metadata": {},
          "execution_count": 154
        }
      ]
    },
    {
      "cell_type": "code",
      "source": [
        "y_teste.shape"
      ],
      "metadata": {
        "colab": {
          "base_uri": "https://localhost:8080/"
        },
        "id": "Na3hjvCKCSbT",
        "outputId": "1aec9c0b-9481-48d2-89fc-72da542ffac0"
      },
      "execution_count": 155,
      "outputs": [
        {
          "output_type": "execute_result",
          "data": {
            "text/plain": [
              "(55,)"
            ]
          },
          "metadata": {},
          "execution_count": 155
        }
      ]
    },
    {
      "cell_type": "markdown",
      "source": [
        "# **ÁRVORE DE DECISÃO**"
      ],
      "metadata": {
        "id": "xJ7tj_u3vvaK"
      }
    },
    {
      "cell_type": "code",
      "source": [
        "from sklearn.tree import DecisionTreeClassifier\n",
        "from sklearn import tree"
      ],
      "metadata": {
        "id": "XKauTB-Lvwjz"
      },
      "execution_count": 53,
      "outputs": []
    },
    {
      "cell_type": "code",
      "source": [
        "arvore = DecisionTreeClassifier(criterion='entropy', random_state = 0, max_depth=3)\n",
        "_arvore = arvore.fit(x_treino, y_treino)"
      ],
      "metadata": {
        "id": "rZcMDzESXARo"
      },
      "execution_count": 156,
      "outputs": []
    },
    {
      "cell_type": "code",
      "source": [
        "tree.plot_tree(_arvore)"
      ],
      "metadata": {
        "colab": {
          "base_uri": "https://localhost:8080/",
          "height": 439
        },
        "id": "m5RwJUYkXDos",
        "outputId": "ef50f9e3-a595-424f-c6dc-3d2b6d604e1d"
      },
      "execution_count": 157,
      "outputs": [
        {
          "output_type": "execute_result",
          "data": {
            "text/plain": [
              "[Text(0.4444444444444444, 0.875, 'X[1] <= -0.038\\nentropy = 0.948\\nsamples = 128\\nvalue = [47, 81]'),\n",
              " Text(0.2222222222222222, 0.625, 'X[2] <= -2.094\\nentropy = 0.429\\nsamples = 57\\nvalue = [5, 52]'),\n",
              " Text(0.1111111111111111, 0.375, 'entropy = 0.0\\nsamples = 2\\nvalue = [2, 0]'),\n",
              " Text(0.3333333333333333, 0.375, 'X[2] <= -0.716\\nentropy = 0.305\\nsamples = 55\\nvalue = [3, 52]'),\n",
              " Text(0.2222222222222222, 0.125, 'entropy = 0.0\\nsamples = 21\\nvalue = [0, 21]'),\n",
              " Text(0.4444444444444444, 0.125, 'entropy = 0.431\\nsamples = 34\\nvalue = [3, 31]'),\n",
              " Text(0.6666666666666666, 0.625, 'X[2] <= -1.357\\nentropy = 0.976\\nsamples = 71\\nvalue = [42, 29]'),\n",
              " Text(0.5555555555555556, 0.375, 'entropy = 0.0\\nsamples = 5\\nvalue = [0, 5]'),\n",
              " Text(0.7777777777777778, 0.375, 'X[2] <= 1.592\\nentropy = 0.946\\nsamples = 66\\nvalue = [42, 24]'),\n",
              " Text(0.6666666666666666, 0.125, 'entropy = 0.978\\nsamples = 58\\nvalue = [34, 24]'),\n",
              " Text(0.8888888888888888, 0.125, 'entropy = 0.0\\nsamples = 8\\nvalue = [8, 0]')]"
            ]
          },
          "metadata": {},
          "execution_count": 157
        },
        {
          "output_type": "display_data",
          "data": {
            "text/plain": [
              "<Figure size 432x288 with 1 Axes>"
            ],
            "image/png": "[encoded data removed]"
          },
          "metadata": {
            "needs_background": "light"
          }
        }
      ]
    },
    {
      "cell_type": "code",
      "source": [
        "previsoes_arvore = arvore.predict(x_teste)\n",
        "previsoes_arvore"
      ],
      "metadata": {
        "colab": {
          "base_uri": "https://localhost:8080/"
        },
        "id": "FGkp_Bb2XIbS",
        "outputId": "6f12e7ea-d709-47e4-9d0a-dc0ed4d454f7"
      },
      "execution_count": 158,
      "outputs": [
        {
          "output_type": "execute_result",
          "data": {
            "text/plain": [
              "array([1, 0, 1, 0, 1, 0, 0, 0, 1, 1, 0, 0, 1, 0, 1, 1, 1, 1, 1, 1, 1, 1,\n",
              "       1, 0, 1, 0, 0, 1, 0, 0, 1, 1, 1, 1, 1, 1, 1, 1, 1, 0, 0, 1, 0, 1,\n",
              "       0, 1, 0, 0, 0, 1, 0, 1, 0, 1, 1])"
            ]
          },
          "metadata": {},
          "execution_count": 158
        }
      ]
    },
    {
      "cell_type": "code",
      "source": [
        "y_teste"
      ],
      "metadata": {
        "colab": {
          "base_uri": "https://localhost:8080/"
        },
        "id": "Sjk9bLGGXKvN",
        "outputId": "e445ba30-59da-4449-ab72-58610a146375"
      },
      "execution_count": 159,
      "outputs": [
        {
          "output_type": "execute_result",
          "data": {
            "text/plain": [
              "array([1, 0, 1, 0, 1, 0, 0, 1, 1, 1, 1, 1, 1, 1, 1, 1, 1, 1, 1, 1, 1, 1,\n",
              "       1, 1, 1, 0, 1, 1, 0, 0, 1, 1, 1, 1, 1, 1, 1, 1, 1, 1, 1, 1, 0, 1,\n",
              "       0, 1, 1, 0, 0, 1, 0, 1, 1, 1, 0])"
            ]
          },
          "metadata": {},
          "execution_count": 159
        }
      ]
    },
    {
      "cell_type": "code",
      "source": [
        "from sklearn.metrics import accuracy_score, confusion_matrix, classification_report"
      ],
      "metadata": {
        "id": "5x4aUaS3XNNw"
      },
      "execution_count": 160,
      "outputs": []
    },
    {
      "cell_type": "code",
      "source": [
        "print(\"Acurácia: %.2f%%\" % (accuracy_score(y_teste, previsoes_arvore) * 100.0))"
      ],
      "metadata": {
        "colab": {
          "base_uri": "https://localhost:8080/"
        },
        "id": "gSqwieBOXOii",
        "outputId": "a76eaaf0-b3f7-485a-a3a3-7edafeba792d"
      },
      "execution_count": 161,
      "outputs": [
        {
          "output_type": "stream",
          "name": "stdout",
          "text": [
            "Acurácia: 80.00%\n"
          ]
        }
      ]
    },
    {
      "cell_type": "code",
      "source": [
        "confusion_matrix(y_teste, previsoes_arvore)"
      ],
      "metadata": {
        "colab": {
          "base_uri": "https://localhost:8080/"
        },
        "id": "Z-OiTQd0XQi3",
        "outputId": "054f14ef-0806-422a-80ab-2d685f583457"
      },
      "execution_count": 162,
      "outputs": [
        {
          "output_type": "execute_result",
          "data": {
            "text/plain": [
              "array([[12,  1],\n",
              "       [10, 32]])"
            ]
          },
          "metadata": {},
          "execution_count": 162
        }
      ]
    },
    {
      "cell_type": "code",
      "source": [
        "print(classification_report(y_teste, previsoes_arvore))"
      ],
      "metadata": {
        "colab": {
          "base_uri": "https://localhost:8080/"
        },
        "id": "IteCx1LKXU8n",
        "outputId": "2e542e99-b536-439b-e482-fe182bef0945"
      },
      "execution_count": 163,
      "outputs": [
        {
          "output_type": "stream",
          "name": "stdout",
          "text": [
            "              precision    recall  f1-score   support\n",
            "\n",
            "           0       0.55      0.92      0.69        13\n",
            "           1       0.97      0.76      0.85        42\n",
            "\n",
            "    accuracy                           0.80        55\n",
            "   macro avg       0.76      0.84      0.77        55\n",
            "weighted avg       0.87      0.80      0.81        55\n",
            "\n"
          ]
        }
      ]
    },
    {
      "cell_type": "code",
      "source": [
        "previsoes_treino = arvore.predict(x_treino)\n",
        "previsoes_treino"
      ],
      "metadata": {
        "colab": {
          "base_uri": "https://localhost:8080/"
        },
        "id": "DqsEH-NxXa07",
        "outputId": "0c753086-8cd9-4768-a2b3-55a9e354f42d"
      },
      "execution_count": 164,
      "outputs": [
        {
          "output_type": "execute_result",
          "data": {
            "text/plain": [
              "array([1, 0, 0, 1, 0, 0, 1, 1, 0, 0, 0, 1, 1, 1, 0, 1, 1, 0, 1, 1, 1, 0,\n",
              "       0, 1, 1, 1, 1, 0, 1, 0, 0, 0, 1, 0, 0, 1, 1, 0, 0, 0, 1, 1, 1, 0,\n",
              "       0, 1, 0, 1, 0, 0, 0, 0, 1, 0, 1, 1, 1, 0, 1, 1, 0, 0, 0, 0, 0, 0,\n",
              "       1, 0, 0, 0, 1, 0, 0, 0, 1, 0, 1, 1, 0, 1, 1, 0, 1, 0, 0, 0, 0, 1,\n",
              "       1, 0, 0, 1, 1, 0, 0, 1, 1, 0, 0, 0, 1, 1, 0, 1, 1, 0, 0, 1, 0, 0,\n",
              "       0, 1, 0, 1, 1, 1, 0, 0, 1, 1, 1, 0, 0, 0, 0, 1, 1, 1])"
            ]
          },
          "metadata": {},
          "execution_count": 164
        }
      ]
    },
    {
      "cell_type": "code",
      "source": [
        "accuracy_score(y_treino, previsoes_treino)"
      ],
      "metadata": {
        "colab": {
          "base_uri": "https://localhost:8080/"
        },
        "id": "UzNfrjEHXdmx",
        "outputId": "29be6cfc-15d9-4d8a-9421-67cbc1afe055"
      },
      "execution_count": 165,
      "outputs": [
        {
          "output_type": "execute_result",
          "data": {
            "text/plain": [
              "0.7890625"
            ]
          },
          "metadata": {},
          "execution_count": 165
        }
      ]
    },
    {
      "cell_type": "code",
      "source": [
        "confusion_matrix(y_treino, previsoes_treino)"
      ],
      "metadata": {
        "colab": {
          "base_uri": "https://localhost:8080/"
        },
        "id": "PHMzR5sKXfZv",
        "outputId": "bdc71ed7-5663-4f40-817b-4e2adeeb96db"
      },
      "execution_count": 166,
      "outputs": [
        {
          "output_type": "execute_result",
          "data": {
            "text/plain": [
              "array([[44,  3],\n",
              "       [24, 57]])"
            ]
          },
          "metadata": {},
          "execution_count": 166
        }
      ]
    }
  ]
}